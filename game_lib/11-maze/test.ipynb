{
 "cells": [
  {
   "cell_type": "code",
   "execution_count": 1,
   "metadata": {},
   "outputs": [
    {
     "name": "stdout",
     "output_type": "stream",
     "text": [
      "0.0031299591064453125\n",
      "生成的迷宫：\n",
      "I o o o o o o o o o o o o o o\n",
      "o * * * * * o * o * * * * * *\n",
      "o o o o o * o * o o o o o * o\n",
      "o * o * o * * * * * o * o * o\n",
      "o * o * o o o o o * o * o o o\n",
      "o * o * o * o * o * o * * * o\n",
      "o * o * o * o * o * o * o o o\n",
      "o * o * o * o * o * * * o * o\n",
      "o * o * o * o * o o o * o * o\n",
      "o * o * o * * * o * o * o * o\n",
      "o * o * o * o o o * o * o * o\n",
      "* * o * o * o * o * * * * * o\n",
      "o * o * o * o * o o o * o o o\n",
      "o * * * o * * * o * o * * * o\n",
      "o o o o o * o o o * o * o o X\n",
      "\n",
      "验证结果： False\n"
     ]
    }
   ],
   "source": [
    "from main import MazeSolver\n",
    "\n",
    "# 初始化迷宫（推荐使用奇数尺寸）\n",
    "maze_solver = MazeSolver(seed=42, scale=(31, 31))\n",
    "\n",
    "# 打印生成的迷宫\n",
    "print(\"生成的迷宫：\")\n",
    "print(maze_solver)\n",
    "\n",
    "# 测试验证功能（需要根据实际生成的迷宫设计路径）\n",
    "test_actions = ['down'] * 10 + ['right'] * 30  # 示例动作序列\n",
    "print(\"\\n验证结果：\", maze_solver.verify(test_actions))"
   ]
  },
  {
   "cell_type": "code",
   "execution_count": 3,
   "metadata": {},
   "outputs": [
    {
     "name": "stdout",
     "output_type": "stream",
     "text": [
      "\n",
      "验证结果： True\n"
     ]
    }
   ],
   "source": [
    "solution_path = ['right'] * 8 + ['down'] * 2 + ['right'] * 4 + ['down'] * 2 + ['right'] * 2 + ['down'] * 10\n",
    "\n",
    "# 验证解决方案\n",
    "print(\"\\n验证结果：\", maze_solver.verify(solution_path))"
   ]
  },
  {
   "cell_type": "code",
   "execution_count": null,
   "metadata": {},
   "outputs": [],
   "source": []
  }
 ],
 "metadata": {
  "kernelspec": {
   "display_name": "q",
   "language": "python",
   "name": "python3"
  },
  "language_info": {
   "codemirror_mode": {
    "name": "ipython",
    "version": 3
   },
   "file_extension": ".py",
   "mimetype": "text/x-python",
   "name": "python",
   "nbconvert_exporter": "python",
   "pygments_lexer": "ipython3",
   "version": "3.1.0"
  }
 },
 "nbformat": 4,
 "nbformat_minor": 2
}
