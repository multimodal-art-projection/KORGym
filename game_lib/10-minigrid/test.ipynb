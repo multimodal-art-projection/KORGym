{
 "cells": [
  {
   "cell_type": "markdown",
   "metadata": {},
   "source": [
    "## 安装环境"
   ]
  },
  {
   "cell_type": "code",
   "execution_count": 1,
   "metadata": {},
   "outputs": [
    {
     "name": "stdout",
     "output_type": "stream",
     "text": [
      "Requirement already satisfied: gymnasium in /Users/lishilong/miniconda3/envs/q/lib/python3.10/site-packages (1.1.0)\n",
      "Requirement already satisfied: numpy>=1.21.0 in /Users/lishilong/miniconda3/envs/q/lib/python3.10/site-packages (from gymnasium) (1.24.2)\n",
      "Requirement already satisfied: cloudpickle>=1.2.0 in /Users/lishilong/miniconda3/envs/q/lib/python3.10/site-packages (from gymnasium) (3.1.1)\n",
      "Requirement already satisfied: typing-extensions>=4.3.0 in /Users/lishilong/miniconda3/envs/q/lib/python3.10/site-packages (from gymnasium) (4.12.2)\n",
      "Requirement already satisfied: farama-notifications>=0.0.1 in /Users/lishilong/miniconda3/envs/q/lib/python3.10/site-packages (from gymnasium) (0.0.4)\n",
      "Requirement already satisfied: minigrid in /Users/lishilong/miniconda3/envs/q/lib/python3.10/site-packages (3.0.0)\n",
      "Requirement already satisfied: numpy>=1.18.0 in /Users/lishilong/miniconda3/envs/q/lib/python3.10/site-packages (from minigrid) (1.24.2)\n",
      "Requirement already satisfied: gymnasium>=0.28.1 in /Users/lishilong/miniconda3/envs/q/lib/python3.10/site-packages (from minigrid) (1.1.0)\n",
      "Requirement already satisfied: pygame>=2.4.0 in /Users/lishilong/miniconda3/envs/q/lib/python3.10/site-packages (from minigrid) (2.6.1)\n",
      "Requirement already satisfied: cloudpickle>=1.2.0 in /Users/lishilong/miniconda3/envs/q/lib/python3.10/site-packages (from gymnasium>=0.28.1->minigrid) (3.1.1)\n",
      "Requirement already satisfied: typing-extensions>=4.3.0 in /Users/lishilong/miniconda3/envs/q/lib/python3.10/site-packages (from gymnasium>=0.28.1->minigrid) (4.12.2)\n",
      "Requirement already satisfied: farama-notifications>=0.0.1 in /Users/lishilong/miniconda3/envs/q/lib/python3.10/site-packages (from gymnasium>=0.28.1->minigrid) (0.0.4)\n",
      "Requirement already satisfied: gym-minigrid in /Users/lishilong/miniconda3/envs/q/lib/python3.10/site-packages (1.2.2)\n",
      "Requirement already satisfied: gym>=0.26 in /Users/lishilong/miniconda3/envs/q/lib/python3.10/site-packages (from gym-minigrid) (0.26.2)\n",
      "Requirement already satisfied: numpy>=1.18.0 in /Users/lishilong/miniconda3/envs/q/lib/python3.10/site-packages (from gym-minigrid) (1.24.2)\n",
      "Requirement already satisfied: matplotlib>=3.0 in /Users/lishilong/miniconda3/envs/q/lib/python3.10/site-packages (from gym-minigrid) (3.7.1)\n",
      "Requirement already satisfied: cloudpickle>=1.2.0 in /Users/lishilong/miniconda3/envs/q/lib/python3.10/site-packages (from gym>=0.26->gym-minigrid) (3.1.1)\n",
      "Requirement already satisfied: gym_notices>=0.0.4 in /Users/lishilong/miniconda3/envs/q/lib/python3.10/site-packages (from gym>=0.26->gym-minigrid) (0.0.8)\n",
      "Requirement already satisfied: contourpy>=1.0.1 in /Users/lishilong/miniconda3/envs/q/lib/python3.10/site-packages (from matplotlib>=3.0->gym-minigrid) (1.2.1)\n",
      "Requirement already satisfied: cycler>=0.10 in /Users/lishilong/miniconda3/envs/q/lib/python3.10/site-packages (from matplotlib>=3.0->gym-minigrid) (0.12.1)\n",
      "Requirement already satisfied: fonttools>=4.22.0 in /Users/lishilong/miniconda3/envs/q/lib/python3.10/site-packages (from matplotlib>=3.0->gym-minigrid) (4.53.1)\n",
      "Requirement already satisfied: kiwisolver>=1.0.1 in /Users/lishilong/miniconda3/envs/q/lib/python3.10/site-packages (from matplotlib>=3.0->gym-minigrid) (1.4.5)\n",
      "Requirement already satisfied: packaging>=20.0 in /Users/lishilong/miniconda3/envs/q/lib/python3.10/site-packages (from matplotlib>=3.0->gym-minigrid) (24.1)\n",
      "Requirement already satisfied: pillow>=6.2.0 in /Users/lishilong/miniconda3/envs/q/lib/python3.10/site-packages (from matplotlib>=3.0->gym-minigrid) (10.4.0)\n",
      "Requirement already satisfied: pyparsing>=2.3.1 in /Users/lishilong/miniconda3/envs/q/lib/python3.10/site-packages (from matplotlib>=3.0->gym-minigrid) (3.1.2)\n",
      "Requirement already satisfied: python-dateutil>=2.7 in /Users/lishilong/miniconda3/envs/q/lib/python3.10/site-packages (from matplotlib>=3.0->gym-minigrid) (2.9.0)\n",
      "Requirement already satisfied: six>=1.5 in /Users/lishilong/miniconda3/envs/q/lib/python3.10/site-packages (from python-dateutil>=2.7->matplotlib>=3.0->gym-minigrid) (1.16.0)\n"
     ]
    }
   ],
   "source": [
    "!pip install gymnasium\n",
    "!pip install minigrid\n",
    "!pip install gym-minigrid"
   ]
  },
  {
   "cell_type": "code",
   "execution_count": null,
   "metadata": {},
   "outputs": [],
   "source": [
    "# from main import MiniGridLLMAgent\n",
    "# import gymnasium as gym\n",
    "# import minigrid  # 此行必须存在以注册环境\n",
    "\n",
    "# # 创建环境\n",
    "# env = gym.make(\"MiniGrid-Empty-5x5-v0\", render_mode=\"human\")\n",
    "# agent = MiniGridLLMAgent(env_name=\"MiniGrid-Empty-5x5-v0\")"
   ]
  },
  {
   "cell_type": "code",
   "execution_count": null,
   "metadata": {},
   "outputs": [],
   "source": [
    "# from minigrid import wrappers\n",
    "# print(dir(wrappers))"
   ]
  },
  {
   "cell_type": "code",
   "execution_count": null,
   "metadata": {},
   "outputs": [],
   "source": [
    "# # 验证可用环境列表\n",
    "# from gymnasium.envs.registration import registry\n",
    "\n",
    "# minigrid_envs = [env_id for env_id in registry if env_id.startswith('MiniGrid')]\n",
    "# print(\"Available MiniGrid environments:\")\n",
    "# for env_id in sorted(minigrid_envs):\n",
    "#     print(f\"- {env_id}\")"
   ]
  },
  {
   "cell_type": "code",
   "execution_count": null,
   "metadata": {},
   "outputs": [],
   "source": [
    "# import gymnasium as gym\n",
    "# print(gym.pprint_registry())"
   ]
  },
  {
   "cell_type": "markdown",
   "metadata": {},
   "source": [
    "## 评估"
   ]
  },
  {
   "cell_type": "code",
   "execution_count": 2,
   "metadata": {},
   "outputs": [],
   "source": [
    "from main import *"
   ]
  },
  {
   "cell_type": "code",
   "execution_count": 3,
   "metadata": {},
   "outputs": [
    {
     "name": "stdout",
     "output_type": "stream",
     "text": [
      "\n",
      "=== Evaluating on MiniGrid-Empty-5x5-v0 ===\n",
      "Move blocked at (2, 1) facing 3\n",
      "Seed 42: Steps: 10 | Reward: 0.00\n",
      "\n",
      "=== Final Evaluation Report ===\n",
      "\n",
      "Environment: MiniGrid-Empty-5x5-v0\n",
      "Average Steps: 10.0\n",
      "Average Reward: 0.00\n",
      "Invalid Actions per Episode: 0.0\n"
     ]
    }
   ],
   "source": [
    "evaluation_results = evaluate_llm(\n",
    "    env_names=[\n",
    "        \"MiniGrid-Empty-5x5-v0\",\n",
    "    ],\n",
    "    seeds=[42],\n",
    "    max_steps=10\n",
    ")"
   ]
  },
  {
   "cell_type": "code",
   "execution_count": 4,
   "metadata": {},
   "outputs": [
    {
     "data": {
      "text/plain": [
       "{'MiniGrid-Empty-5x5-v0': {'avg_steps': 10.0,\n",
       "  'avg_reward': 0.0,\n",
       "  'invalid_actions': 0,\n",
       "  'conversations': [[{'role': 'system',\n",
       "     'content': \"You are an AI agent navigating a grid environment. Your task is:\\n1. Analyze environmental observations\\n2. Choose optimal actions to achieve the mission\\n\\n**Core Rules**:\\n- Strictly use ONLY the provided action list\\n- Prioritize shortest paths\\n- Avoid dangerous areas (lava)\\n- Manage inventory carefully (keys, etc)\\n- Closed doors require 'toggle' to open\\n- Locked doors need matching key (use pickup first)\\n\\n**Action Space** (REQUIRED RESPONSE FORMAT):\\nturn_left   : Rotate 90° counter-clockwise\\nturn_right  : Rotate 90° clockwise\\nmove_forward: Advance if path clear\\npickup      : Collect keys/objects\\ndrop        : Drop carried object\\ntoggle      : Open doors or interact (facing target required)\\ndone        : ONLY when goal reached\\n\\n**Observation**:\\nYou receive the entire grid as an observation, represented as a 3D array of shape (width, height, 3).\\n- Coordinates range from (0,0) at top-left to (width-1, height-1) at bottom-right.\\n- Each cell contains [object_type, color, state]:\\n  - object_type: 1=EMPTY, 2=WALL, 3=FLOOR, 4=DOOR, 5=KEY, 6=BALL, 7=BOX, 8=GOAL, 9=LAVA, 10=AGENT\\n  - color: 0=RED, 1=GREEN, 2=BLUE, 3=PURPLE, 4=YELLOW, 5=GREY\\n    - For AGENT (10), this is direction: 0=right, 1=down, 2=left, 3=up\\n  - state: For DOOR, 0=open, 1=closed, 2=locked; otherwise 0\\n- Your position is the cell with object_type=10.\\n- The mission is a string, e.g., 'get to the green goal square'.\\n\\nRespond with exactly one lowercase action word.\"},\n",
       "    {'role': 'user',\n",
       "     'content': 'Current State:\\nMission: get to the green goal square\\nGrid size: 5x5\\nAgent at (1, 1), facing right (→)\\nStatus: not carrying anything | 10 steps remaining\\nObservation:\\n[[[ 0,  0,  2],\\n  [ 0,  1,  2],\\n  [ 0,  2,  2],\\n  [ 0,  3,  2],\\n  [ 0,  4,  2]],\\n\\n [[ 1,  0,  2],\\n  [ 1,  1, 10],\\n  [ 1,  2, -1],\\n  [ 1,  3, -1],\\n  [ 1,  4,  2]],\\n\\n [[ 2,  0,  2],\\n  [ 2,  1, -1],\\n  [ 2,  2, -1],\\n  [ 2,  3, -1],\\n  [ 2,  4,  2]],\\n\\n [[ 3,  0,  2],\\n  [ 3,  1, -1],\\n  [ 3,  2, -1],\\n  [ 3,  3,  8],\\n  [ 3,  4,  2]],\\n\\n [[ 4,  0,  2],\\n  [ 4,  1,  2],\\n  [ 4,  2,  2],\\n  [ 4,  3,  2],\\n  [ 4,  4,  2]]]\\n\\n\\nChoose next action based on the state and rules. Respond ONLY with the action name:'},\n",
       "    {'role': 'assistant', 'content': 'move_forward'},\n",
       "    {'role': 'user',\n",
       "     'content': 'Current State:\\nMission: get to the green goal square\\nGrid size: 5x5\\nAgent at (2, 1), facing right (→)\\nStatus: not carrying anything | 9 steps remaining\\nObservation:\\n[[[ 0,  0,  2],\\n  [ 0,  1,  2],\\n  [ 0,  2,  2],\\n  [ 0,  3,  2],\\n  [ 0,  4,  2]],\\n\\n [[ 1,  0,  2],\\n  [ 1,  1, -1],\\n  [ 1,  2, -1],\\n  [ 1,  3, -1],\\n  [ 1,  4,  2]],\\n\\n [[ 2,  0,  2],\\n  [ 2,  1, 10],\\n  [ 2,  2, -1],\\n  [ 2,  3, -1],\\n  [ 2,  4,  2]],\\n\\n [[ 3,  0,  2],\\n  [ 3,  1, -1],\\n  [ 3,  2, -1],\\n  [ 3,  3,  8],\\n  [ 3,  4,  2]],\\n\\n [[ 4,  0,  2],\\n  [ 4,  1,  2],\\n  [ 4,  2,  2],\\n  [ 4,  3,  2],\\n  [ 4,  4,  2]]]\\n\\n\\nChoose next action based on the state and rules. Respond ONLY with the action name:'},\n",
       "    {'role': 'assistant', 'content': 'turn_right'},\n",
       "    {'role': 'user',\n",
       "     'content': 'Current State:\\nMission: get to the green goal square\\nGrid size: 5x5\\nAgent at (2, 1), facing down (↓)\\nStatus: not carrying anything | 8 steps remaining\\nObservation:\\n[[[ 0,  0,  2],\\n  [ 0,  1,  2],\\n  [ 0,  2,  2],\\n  [ 0,  3,  2],\\n  [ 0,  4,  2]],\\n\\n [[ 1,  0,  2],\\n  [ 1,  1, -1],\\n  [ 1,  2, -1],\\n  [ 1,  3, -1],\\n  [ 1,  4,  2]],\\n\\n [[ 2,  0,  2],\\n  [ 2,  1, 10],\\n  [ 2,  2, -1],\\n  [ 2,  3, -1],\\n  [ 2,  4,  2]],\\n\\n [[ 3,  0,  2],\\n  [ 3,  1, -1],\\n  [ 3,  2, -1],\\n  [ 3,  3,  8],\\n  [ 3,  4,  2]],\\n\\n [[ 4,  0,  2],\\n  [ 4,  1,  2],\\n  [ 4,  2,  2],\\n  [ 4,  3,  2],\\n  [ 4,  4,  2]]]\\n\\n\\nChoose next action based on the state and rules. Respond ONLY with the action name:'},\n",
       "    {'role': 'assistant', 'content': 'move_forward'},\n",
       "    {'role': 'user',\n",
       "     'content': 'Current State:\\nMission: get to the green goal square\\nGrid size: 5x5\\nAgent at (2, 2), facing down (↓)\\nStatus: not carrying anything | 7 steps remaining\\nObservation:\\n[[[ 0,  0,  2],\\n  [ 0,  1,  2],\\n  [ 0,  2,  2],\\n  [ 0,  3,  2],\\n  [ 0,  4,  2]],\\n\\n [[ 1,  0,  2],\\n  [ 1,  1, -1],\\n  [ 1,  2, -1],\\n  [ 1,  3, -1],\\n  [ 1,  4,  2]],\\n\\n [[ 2,  0,  2],\\n  [ 2,  1, -1],\\n  [ 2,  2, 10],\\n  [ 2,  3, -1],\\n  [ 2,  4,  2]],\\n\\n [[ 3,  0,  2],\\n  [ 3,  1, -1],\\n  [ 3,  2, -1],\\n  [ 3,  3,  8],\\n  [ 3,  4,  2]],\\n\\n [[ 4,  0,  2],\\n  [ 4,  1,  2],\\n  [ 4,  2,  2],\\n  [ 4,  3,  2],\\n  [ 4,  4,  2]]]\\n\\n\\nChoose next action based on the state and rules. Respond ONLY with the action name:'},\n",
       "    {'role': 'assistant', 'content': 'move_forward'},\n",
       "    {'role': 'user',\n",
       "     'content': 'Current State:\\nMission: get to the green goal square\\nGrid size: 5x5\\nAgent at (2, 3), facing down (↓)\\nStatus: not carrying anything | 6 steps remaining\\nObservation:\\n[[[ 0,  0,  2],\\n  [ 0,  1,  2],\\n  [ 0,  2,  2],\\n  [ 0,  3,  2],\\n  [ 0,  4,  2]],\\n\\n [[ 1,  0,  2],\\n  [ 1,  1, -1],\\n  [ 1,  2, -1],\\n  [ 1,  3, -1],\\n  [ 1,  4,  2]],\\n\\n [[ 2,  0,  2],\\n  [ 2,  1, -1],\\n  [ 2,  2, -1],\\n  [ 2,  3, 10],\\n  [ 2,  4,  2]],\\n\\n [[ 3,  0,  2],\\n  [ 3,  1, -1],\\n  [ 3,  2, -1],\\n  [ 3,  3,  8],\\n  [ 3,  4,  2]],\\n\\n [[ 4,  0,  2],\\n  [ 4,  1,  2],\\n  [ 4,  2,  2],\\n  [ 4,  3,  2],\\n  [ 4,  4,  2]]]\\n\\n\\nChoose next action based on the state and rules. Respond ONLY with the action name:'},\n",
       "    {'role': 'assistant', 'content': 'done'},\n",
       "    {'role': 'user',\n",
       "     'content': 'Current State:\\nMission: get to the green goal square\\nGrid size: 5x5\\nAgent at (2, 3), facing down (↓)\\nStatus: not carrying anything | 5 steps remaining\\nObservation:\\n[[[ 0,  0,  2],\\n  [ 0,  1,  2],\\n  [ 0,  2,  2],\\n  [ 0,  3,  2],\\n  [ 0,  4,  2]],\\n\\n [[ 1,  0,  2],\\n  [ 1,  1, -1],\\n  [ 1,  2, -1],\\n  [ 1,  3, -1],\\n  [ 1,  4,  2]],\\n\\n [[ 2,  0,  2],\\n  [ 2,  1, -1],\\n  [ 2,  2, -1],\\n  [ 2,  3, 10],\\n  [ 2,  4,  2]],\\n\\n [[ 3,  0,  2],\\n  [ 3,  1, -1],\\n  [ 3,  2, -1],\\n  [ 3,  3,  8],\\n  [ 3,  4,  2]],\\n\\n [[ 4,  0,  2],\\n  [ 4,  1,  2],\\n  [ 4,  2,  2],\\n  [ 4,  3,  2],\\n  [ 4,  4,  2]]]\\n\\n\\nChoose next action based on the state and rules. Respond ONLY with the action name:'},\n",
       "    {'role': 'assistant', 'content': 'turn_right'},\n",
       "    {'role': 'user',\n",
       "     'content': 'Current State:\\nMission: get to the green goal square\\nGrid size: 5x5\\nAgent at (2, 3), facing left (←)\\nStatus: not carrying anything | 4 steps remaining\\nObservation:\\n[[[ 0,  0,  2],\\n  [ 0,  1,  2],\\n  [ 0,  2,  2],\\n  [ 0,  3,  2],\\n  [ 0,  4,  2]],\\n\\n [[ 1,  0,  2],\\n  [ 1,  1, -1],\\n  [ 1,  2, -1],\\n  [ 1,  3, -1],\\n  [ 1,  4,  2]],\\n\\n [[ 2,  0,  2],\\n  [ 2,  1, -1],\\n  [ 2,  2, -1],\\n  [ 2,  3, 10],\\n  [ 2,  4,  2]],\\n\\n [[ 3,  0,  2],\\n  [ 3,  1, -1],\\n  [ 3,  2, -1],\\n  [ 3,  3,  8],\\n  [ 3,  4,  2]],\\n\\n [[ 4,  0,  2],\\n  [ 4,  1,  2],\\n  [ 4,  2,  2],\\n  [ 4,  3,  2],\\n  [ 4,  4,  2]]]\\n\\n\\nChoose next action based on the state and rules. Respond ONLY with the action name:'},\n",
       "    {'role': 'assistant', 'content': 'turn_right'},\n",
       "    {'role': 'user',\n",
       "     'content': 'Current State:\\nMission: get to the green goal square\\nGrid size: 5x5\\nAgent at (2, 3), facing up (↑)\\nStatus: not carrying anything | 3 steps remaining\\nObservation:\\n[[[ 0,  0,  2],\\n  [ 0,  1,  2],\\n  [ 0,  2,  2],\\n  [ 0,  3,  2],\\n  [ 0,  4,  2]],\\n\\n [[ 1,  0,  2],\\n  [ 1,  1, -1],\\n  [ 1,  2, -1],\\n  [ 1,  3, -1],\\n  [ 1,  4,  2]],\\n\\n [[ 2,  0,  2],\\n  [ 2,  1, -1],\\n  [ 2,  2, -1],\\n  [ 2,  3, 10],\\n  [ 2,  4,  2]],\\n\\n [[ 3,  0,  2],\\n  [ 3,  1, -1],\\n  [ 3,  2, -1],\\n  [ 3,  3,  8],\\n  [ 3,  4,  2]],\\n\\n [[ 4,  0,  2],\\n  [ 4,  1,  2],\\n  [ 4,  2,  2],\\n  [ 4,  3,  2],\\n  [ 4,  4,  2]]]\\n\\n\\nChoose next action based on the state and rules. Respond ONLY with the action name:'},\n",
       "    {'role': 'assistant', 'content': 'move_forward'},\n",
       "    {'role': 'user',\n",
       "     'content': 'Current State:\\nMission: get to the green goal square\\nGrid size: 5x5\\nAgent at (2, 2), facing up (↑)\\nStatus: not carrying anything | 2 steps remaining\\nObservation:\\n[[[ 0,  0,  2],\\n  [ 0,  1,  2],\\n  [ 0,  2,  2],\\n  [ 0,  3,  2],\\n  [ 0,  4,  2]],\\n\\n [[ 1,  0,  2],\\n  [ 1,  1, -1],\\n  [ 1,  2, -1],\\n  [ 1,  3, -1],\\n  [ 1,  4,  2]],\\n\\n [[ 2,  0,  2],\\n  [ 2,  1, -1],\\n  [ 2,  2, 10],\\n  [ 2,  3, -1],\\n  [ 2,  4,  2]],\\n\\n [[ 3,  0,  2],\\n  [ 3,  1, -1],\\n  [ 3,  2, -1],\\n  [ 3,  3,  8],\\n  [ 3,  4,  2]],\\n\\n [[ 4,  0,  2],\\n  [ 4,  1,  2],\\n  [ 4,  2,  2],\\n  [ 4,  3,  2],\\n  [ 4,  4,  2]]]\\n\\n\\nChoose next action based on the state and rules. Respond ONLY with the action name:'},\n",
       "    {'role': 'assistant', 'content': 'move_forward'},\n",
       "    {'role': 'user',\n",
       "     'content': 'Current State:\\nMission: get to the green goal square\\nGrid size: 5x5\\nAgent at (2, 1), facing up (↑)\\nStatus: not carrying anything | 1 steps remaining\\nObservation:\\n[[[ 0,  0,  2],\\n  [ 0,  1,  2],\\n  [ 0,  2,  2],\\n  [ 0,  3,  2],\\n  [ 0,  4,  2]],\\n\\n [[ 1,  0,  2],\\n  [ 1,  1, -1],\\n  [ 1,  2, -1],\\n  [ 1,  3, -1],\\n  [ 1,  4,  2]],\\n\\n [[ 2,  0,  2],\\n  [ 2,  1, 10],\\n  [ 2,  2, -1],\\n  [ 2,  3, -1],\\n  [ 2,  4,  2]],\\n\\n [[ 3,  0,  2],\\n  [ 3,  1, -1],\\n  [ 3,  2, -1],\\n  [ 3,  3,  8],\\n  [ 3,  4,  2]],\\n\\n [[ 4,  0,  2],\\n  [ 4,  1,  2],\\n  [ 4,  2,  2],\\n  [ 4,  3,  2],\\n  [ 4,  4,  2]]]\\n\\n\\nChoose next action based on the state and rules. Respond ONLY with the action name:'},\n",
       "    {'role': 'assistant', 'content': 'move_forward'},\n",
       "    {'role': 'user',\n",
       "     'content': 'Current State:\\nMission: get to the green goal square\\nGrid size: 5x5\\nAgent at (2, 1), facing up (↑)\\nStatus: not carrying anything | 0 steps remaining\\nObservation:\\n[[[ 0,  0,  2],\\n  [ 0,  1,  2],\\n  [ 0,  2,  2],\\n  [ 0,  3,  2],\\n  [ 0,  4,  2]],\\n\\n [[ 1,  0,  2],\\n  [ 1,  1, -1],\\n  [ 1,  2, -1],\\n  [ 1,  3, -1],\\n  [ 1,  4,  2]],\\n\\n [[ 2,  0,  2],\\n  [ 2,  1, 10],\\n  [ 2,  2, -1],\\n  [ 2,  3, -1],\\n  [ 2,  4,  2]],\\n\\n [[ 3,  0,  2],\\n  [ 3,  1, -1],\\n  [ 3,  2, -1],\\n  [ 3,  3,  8],\\n  [ 3,  4,  2]],\\n\\n [[ 4,  0,  2],\\n  [ 4,  1,  2],\\n  [ 4,  2,  2],\\n  [ 4,  3,  2],\\n  [ 4,  4,  2]]]\\n\\n\\nChoose next action based on the state and rules. Respond ONLY with the action name:'}]]}}"
      ]
     },
     "execution_count": 4,
     "metadata": {},
     "output_type": "execute_result"
    }
   ],
   "source": [
    "evaluation_results"
   ]
  },
  {
   "cell_type": "markdown",
   "metadata": {},
   "source": [
    "## 评估v2"
   ]
  },
  {
   "cell_type": "code",
   "execution_count": 5,
   "metadata": {},
   "outputs": [],
   "source": [
    "from main import *"
   ]
  },
  {
   "cell_type": "code",
   "execution_count": 6,
   "metadata": {},
   "outputs": [
    {
     "name": "stdout",
     "output_type": "stream",
     "text": [
      "\n",
      "=== Evaluating on MiniGrid-Empty-5x5-v0 ===\n",
      "Seed 42: Steps: 7 | Reward: 0.58\n",
      "Seed 123: Steps: 7 | Reward: 0.58\n",
      "Seed 456: Steps: 7 | Reward: 0.58\n",
      "Move blocked at (2, 3) facing 1\n",
      "Move blocked at (2, 3) facing 1\n",
      "Move blocked at (2, 3) facing 1\n",
      "Seed 789: Steps: 14 | Reward: 0.16\n",
      "\n",
      "=== Evaluating on MiniGrid-DoorKey-6x6-v0 ===\n",
      "Move blocked at (1, 3) facing 0\n",
      "Move blocked at (1, 2) facing 0\n",
      "Seed 42: Steps: 15 | Reward: 0.00\n",
      "Move blocked at (1, 3) facing 0\n",
      "Move blocked at (1, 4) facing 0\n",
      "Move blocked at (1, 3) facing 3\n",
      "Move blocked at (1, 3) facing 0\n",
      "Seed 123: Steps: 15 | Reward: 0.00\n",
      "Move blocked at (1, 3) facing 0\n",
      "Move blocked at (1, 3) facing 0\n",
      "Move blocked at (1, 3) facing 0\n",
      "Move blocked at (1, 3) facing 0\n",
      "Move blocked at (1, 3) facing 0\n",
      "Move blocked at (1, 3) facing 0\n",
      "Move blocked at (1, 3) facing 0\n",
      "Seed 456: Steps: 15 | Reward: 0.00\n",
      "Move blocked at (2, 2) facing 0\n",
      "Move blocked at (2, 1) facing 0\n",
      "Seed 789: Steps: 15 | Reward: 0.00\n",
      "\n",
      "=== Evaluating on MiniGrid-LavaGapS5-v0 ===\n",
      "Move blocked at (2, 1) facing 3\n",
      "Move blocked at (1, 3) facing 1\n",
      "Move blocked at (1, 3) facing 1\n",
      "Move blocked at (1, 3) facing 1\n",
      "Move blocked at (1, 3) facing 1\n",
      "Seed 42: Steps: 15 | Reward: 0.00\n",
      "Move blocked at (2, 1) facing 3\n",
      "Move blocked at (2, 1) facing 3\n",
      "Move blocked at (1, 3) facing 1\n",
      "Move blocked at (1, 3) facing 1\n",
      "Move blocked at (1, 3) facing 1\n",
      "Seed 123: Steps: 15 | Reward: 0.00\n",
      "Move blocked at [1 1] facing 3\n",
      "Move blocked at [1 1] facing 2\n",
      "Seed 456: Steps: 9 | Reward: 0.00\n",
      "Seed 789: Steps: 1 | Reward: 0.00\n",
      "\n",
      "=== Final Evaluation Report ===\n",
      "\n",
      "Environment: MiniGrid-Empty-5x5-v0\n",
      "Average Steps: 8.8\n",
      "Average Reward: 0.47\n",
      "Invalid Actions per Episode: 0.0\n",
      "\n",
      "Environment: MiniGrid-DoorKey-6x6-v0\n",
      "Average Steps: 15.0\n",
      "Average Reward: 0.00\n",
      "Invalid Actions per Episode: 0.0\n",
      "\n",
      "Environment: MiniGrid-LavaGapS5-v0\n",
      "Average Steps: 10.0\n",
      "Average Reward: 0.00\n",
      "Invalid Actions per Episode: 0.0\n"
     ]
    }
   ],
   "source": [
    "evaluation_results = evaluate_llm(\n",
    "    env_names=[\n",
    "        \"MiniGrid-Empty-5x5-v0\",\n",
    "        \"MiniGrid-DoorKey-6x6-v0\",\n",
    "        \"MiniGrid-LavaGapS5-v0\"\n",
    "    ],\n",
    "    seeds=[42, 123, 456, 789],  # 4个随机种子\n",
    "    max_steps=15 # 对于困难任务可以增加\n",
    ")"
   ]
  },
  {
   "cell_type": "code",
   "execution_count": 11,
   "metadata": {},
   "outputs": [
    {
     "data": {
      "text/plain": [
       "{'MiniGrid-Empty-5x5-v0': {'avg_steps': 8.75,\n",
       "  'avg_reward': 0.4749999999999999,\n",
       "  'invalid_actions': 0,\n",
       "  'conversations': [[{'role': 'system',\n",
       "     'content': \"You are an AI agent navigating a grid environment. Your task is:\\n1. Analyze environmental observations\\n2. Choose optimal actions to achieve the mission\\n\\n**Core Rules**:\\n- Strictly use ONLY the provided action list\\n- Prioritize shortest paths\\n- Avoid dangerous areas (lava)\\n- Manage inventory carefully (keys, etc)\\n- Closed doors require 'toggle' to open\\n- Locked doors need matching key (use pickup first)\\n\\n**Action Space** (REQUIRED RESPONSE FORMAT):\\nturn_left   : Rotate 90° counter-clockwise\\nturn_right  : Rotate 90° clockwise\\nmove_forward: Advance if path clear\\npickup      : Collect keys/objects\\ndrop        : Drop carried object\\ntoggle      : Open doors or interact (facing target required)\\ndone        : ONLY when goal reached\\n\\n**Observation**:\\nYou receive the entire grid as an observation, represented as a 3D array of shape (width, height, 3).\\n- Coordinates range from (0,0) at top-left to (width-1, height-1) at bottom-right.\\n- Each cell contains [object_type, color, state]:\\n  - object_type: 1=EMPTY, 2=WALL, 3=FLOOR, 4=DOOR, 5=KEY, 6=BALL, 7=BOX, 8=GOAL, 9=LAVA, 10=AGENT\\n  - color: 0=RED, 1=GREEN, 2=BLUE, 3=PURPLE, 4=YELLOW, 5=GREY\\n    - For AGENT (10), this is direction: 0=right, 1=down, 2=left, 3=up\\n  - state: For DOOR, 0=open, 1=closed, 2=locked; otherwise 0\\n- Your position is the cell with object_type=10.\\n- The mission is a string, e.g., 'get to the green goal square'.\\n\\nRespond with exactly one lowercase action word.\"},\n",
       "    {'role': 'user',\n",
       "     'content': 'Current State:\\nMission: get to the green goal square\\nGrid size: 5x5\\nAgent at (1, 1), facing right (→)\\nStatus: not carrying anything | 15 steps remaining\\nObservation:\\n[[[ 0,  0,  2],\\n  [ 0,  1,  2],\\n  [ 0,  2,  2],\\n  [ 0,  3,  2],\\n  [ 0,  4,  2]],\\n\\n [[ 1,  0,  2],\\n  [ 1,  1, 10],\\n  [ 1,  2, -1],\\n  [ 1,  3, -1],\\n  [ 1,  4,  2]],\\n\\n [[ 2,  0,  2],\\n  [ 2,  1, -1],\\n  [ 2,  2, -1],\\n  [ 2,  3, -1],\\n  [ 2,  4,  2]],\\n\\n [[ 3,  0,  2],\\n  [ 3,  1, -1],\\n  [ 3,  2, -1],\\n  [ 3,  3,  8],\\n  [ 3,  4,  2]],\\n\\n [[ 4,  0,  2],\\n  [ 4,  1,  2],\\n  [ 4,  2,  2],\\n  [ 4,  3,  2],\\n  [ 4,  4,  2]]]\\n\\n\\nChoose next action based on the state and rules. Respond ONLY with the action name:'},\n",
       "    {'role': 'assistant', 'content': 'move_forward'},\n",
       "    {'role': 'user',\n",
       "     'content': 'Current State:\\nMission: get to the green goal square\\nGrid size: 5x5\\nAgent at (2, 1), facing right (→)\\nStatus: not carrying anything | 14 steps remaining\\nObservation:\\n[[[ 0,  0,  2],\\n  [ 0,  1,  2],\\n  [ 0,  2,  2],\\n  [ 0,  3,  2],\\n  [ 0,  4,  2]],\\n\\n [[ 1,  0,  2],\\n  [ 1,  1, -1],\\n  [ 1,  2, -1],\\n  [ 1,  3, -1],\\n  [ 1,  4,  2]],\\n\\n [[ 2,  0,  2],\\n  [ 2,  1, 10],\\n  [ 2,  2, -1],\\n  [ 2,  3, -1],\\n  [ 2,  4,  2]],\\n\\n [[ 3,  0,  2],\\n  [ 3,  1, -1],\\n  [ 3,  2, -1],\\n  [ 3,  3,  8],\\n  [ 3,  4,  2]],\\n\\n [[ 4,  0,  2],\\n  [ 4,  1,  2],\\n  [ 4,  2,  2],\\n  [ 4,  3,  2],\\n  [ 4,  4,  2]]]\\n\\n\\nChoose next action based on the state and rules. Respond ONLY with the action name:'},\n",
       "    {'role': 'assistant', 'content': 'turn_right'},\n",
       "    {'role': 'user',\n",
       "     'content': 'Current State:\\nMission: get to the green goal square\\nGrid size: 5x5\\nAgent at (2, 1), facing down (↓)\\nStatus: not carrying anything | 13 steps remaining\\nObservation:\\n[[[ 0,  0,  2],\\n  [ 0,  1,  2],\\n  [ 0,  2,  2],\\n  [ 0,  3,  2],\\n  [ 0,  4,  2]],\\n\\n [[ 1,  0,  2],\\n  [ 1,  1, -1],\\n  [ 1,  2, -1],\\n  [ 1,  3, -1],\\n  [ 1,  4,  2]],\\n\\n [[ 2,  0,  2],\\n  [ 2,  1, 10],\\n  [ 2,  2, -1],\\n  [ 2,  3, -1],\\n  [ 2,  4,  2]],\\n\\n [[ 3,  0,  2],\\n  [ 3,  1, -1],\\n  [ 3,  2, -1],\\n  [ 3,  3,  8],\\n  [ 3,  4,  2]],\\n\\n [[ 4,  0,  2],\\n  [ 4,  1,  2],\\n  [ 4,  2,  2],\\n  [ 4,  3,  2],\\n  [ 4,  4,  2]]]\\n\\n\\nChoose next action based on the state and rules. Respond ONLY with the action name:'},\n",
       "    {'role': 'assistant', 'content': 'move_forward'},\n",
       "    {'role': 'user',\n",
       "     'content': 'Current State:\\nMission: get to the green goal square\\nGrid size: 5x5\\nAgent at (2, 2), facing down (↓)\\nStatus: not carrying anything | 12 steps remaining\\nObservation:\\n[[[ 0,  0,  2],\\n  [ 0,  1,  2],\\n  [ 0,  2,  2],\\n  [ 0,  3,  2],\\n  [ 0,  4,  2]],\\n\\n [[ 1,  0,  2],\\n  [ 1,  1, -1],\\n  [ 1,  2, -1],\\n  [ 1,  3, -1],\\n  [ 1,  4,  2]],\\n\\n [[ 2,  0,  2],\\n  [ 2,  1, -1],\\n  [ 2,  2, 10],\\n  [ 2,  3, -1],\\n  [ 2,  4,  2]],\\n\\n [[ 3,  0,  2],\\n  [ 3,  1, -1],\\n  [ 3,  2, -1],\\n  [ 3,  3,  8],\\n  [ 3,  4,  2]],\\n\\n [[ 4,  0,  2],\\n  [ 4,  1,  2],\\n  [ 4,  2,  2],\\n  [ 4,  3,  2],\\n  [ 4,  4,  2]]]\\n\\n\\nChoose next action based on the state and rules. Respond ONLY with the action name:'},\n",
       "    {'role': 'assistant', 'content': 'move_forward'},\n",
       "    {'role': 'user',\n",
       "     'content': 'Current State:\\nMission: get to the green goal square\\nGrid size: 5x5\\nAgent at (2, 3), facing down (↓)\\nStatus: not carrying anything | 11 steps remaining\\nObservation:\\n[[[ 0,  0,  2],\\n  [ 0,  1,  2],\\n  [ 0,  2,  2],\\n  [ 0,  3,  2],\\n  [ 0,  4,  2]],\\n\\n [[ 1,  0,  2],\\n  [ 1,  1, -1],\\n  [ 1,  2, -1],\\n  [ 1,  3, -1],\\n  [ 1,  4,  2]],\\n\\n [[ 2,  0,  2],\\n  [ 2,  1, -1],\\n  [ 2,  2, -1],\\n  [ 2,  3, 10],\\n  [ 2,  4,  2]],\\n\\n [[ 3,  0,  2],\\n  [ 3,  1, -1],\\n  [ 3,  2, -1],\\n  [ 3,  3,  8],\\n  [ 3,  4,  2]],\\n\\n [[ 4,  0,  2],\\n  [ 4,  1,  2],\\n  [ 4,  2,  2],\\n  [ 4,  3,  2],\\n  [ 4,  4,  2]]]\\n\\n\\nChoose next action based on the state and rules. Respond ONLY with the action name:'},\n",
       "    {'role': 'assistant', 'content': 'done'},\n",
       "    {'role': 'user',\n",
       "     'content': 'Current State:\\nMission: get to the green goal square\\nGrid size: 5x5\\nAgent at (2, 3), facing down (↓)\\nStatus: not carrying anything | 10 steps remaining\\nObservation:\\n[[[ 0,  0,  2],\\n  [ 0,  1,  2],\\n  [ 0,  2,  2],\\n  [ 0,  3,  2],\\n  [ 0,  4,  2]],\\n\\n [[ 1,  0,  2],\\n  [ 1,  1, -1],\\n  [ 1,  2, -1],\\n  [ 1,  3, -1],\\n  [ 1,  4,  2]],\\n\\n [[ 2,  0,  2],\\n  [ 2,  1, -1],\\n  [ 2,  2, -1],\\n  [ 2,  3, 10],\\n  [ 2,  4,  2]],\\n\\n [[ 3,  0,  2],\\n  [ 3,  1, -1],\\n  [ 3,  2, -1],\\n  [ 3,  3,  8],\\n  [ 3,  4,  2]],\\n\\n [[ 4,  0,  2],\\n  [ 4,  1,  2],\\n  [ 4,  2,  2],\\n  [ 4,  3,  2],\\n  [ 4,  4,  2]]]\\n\\n\\nChoose next action based on the state and rules. Respond ONLY with the action name:'},\n",
       "    {'role': 'assistant', 'content': 'turn_left'},\n",
       "    {'role': 'user',\n",
       "     'content': 'Current State:\\nMission: get to the green goal square\\nGrid size: 5x5\\nAgent at (2, 3), facing right (→)\\nStatus: not carrying anything | 9 steps remaining\\nObservation:\\n[[[ 0,  0,  2],\\n  [ 0,  1,  2],\\n  [ 0,  2,  2],\\n  [ 0,  3,  2],\\n  [ 0,  4,  2]],\\n\\n [[ 1,  0,  2],\\n  [ 1,  1, -1],\\n  [ 1,  2, -1],\\n  [ 1,  3, -1],\\n  [ 1,  4,  2]],\\n\\n [[ 2,  0,  2],\\n  [ 2,  1, -1],\\n  [ 2,  2, -1],\\n  [ 2,  3, 10],\\n  [ 2,  4,  2]],\\n\\n [[ 3,  0,  2],\\n  [ 3,  1, -1],\\n  [ 3,  2, -1],\\n  [ 3,  3,  8],\\n  [ 3,  4,  2]],\\n\\n [[ 4,  0,  2],\\n  [ 4,  1,  2],\\n  [ 4,  2,  2],\\n  [ 4,  3,  2],\\n  [ 4,  4,  2]]]\\n\\n\\nChoose next action based on the state and rules. Respond ONLY with the action name:'},\n",
       "    {'role': 'assistant', 'content': 'turn_right'},\n",
       "    {'role': 'user',\n",
       "     'content': 'Current State:\\nMission: get to the green goal square\\nGrid size: 5x5\\nAgent at (2, 3), facing down (↓)\\nStatus: not carrying anything | 8 steps remaining\\nObservation:\\n[[[ 0,  0,  2],\\n  [ 0,  1,  2],\\n  [ 0,  2,  2],\\n  [ 0,  3,  2],\\n  [ 0,  4,  2]],\\n\\n [[ 1,  0,  2],\\n  [ 1,  1, -1],\\n  [ 1,  2, -1],\\n  [ 1,  3, -1],\\n  [ 1,  4,  2]],\\n\\n [[ 2,  0,  2],\\n  [ 2,  1, -1],\\n  [ 2,  2, -1],\\n  [ 2,  3, 10],\\n  [ 2,  4,  2]],\\n\\n [[ 3,  0,  2],\\n  [ 3,  1, -1],\\n  [ 3,  2, -1],\\n  [ 3,  3,  8],\\n  [ 3,  4,  2]],\\n\\n [[ 4,  0,  2],\\n  [ 4,  1,  2],\\n  [ 4,  2,  2],\\n  [ 4,  3,  2],\\n  [ 4,  4,  2]]]\\n\\n\\nChoose next action based on the state and rules. Respond ONLY with the action name:'},\n",
       "    {'role': 'assistant', 'content': 'move_forward'},\n",
       "    {'role': 'user',\n",
       "     'content': 'Current State:\\nMission: get to the green goal square\\nGrid size: 5x5\\nAgent at (2, 3), facing down (↓)\\nStatus: not carrying anything | 7 steps remaining\\nObservation:\\n[[[ 0,  0,  2],\\n  [ 0,  1,  2],\\n  [ 0,  2,  2],\\n  [ 0,  3,  2],\\n  [ 0,  4,  2]],\\n\\n [[ 1,  0,  2],\\n  [ 1,  1, -1],\\n  [ 1,  2, -1],\\n  [ 1,  3, -1],\\n  [ 1,  4,  2]],\\n\\n [[ 2,  0,  2],\\n  [ 2,  1, -1],\\n  [ 2,  2, -1],\\n  [ 2,  3, 10],\\n  [ 2,  4,  2]],\\n\\n [[ 3,  0,  2],\\n  [ 3,  1, -1],\\n  [ 3,  2, -1],\\n  [ 3,  3,  8],\\n  [ 3,  4,  2]],\\n\\n [[ 4,  0,  2],\\n  [ 4,  1,  2],\\n  [ 4,  2,  2],\\n  [ 4,  3,  2],\\n  [ 4,  4,  2]]]\\n\\n\\nChoose next action based on the state and rules. Respond ONLY with the action name:'},\n",
       "    {'role': 'assistant', 'content': 'done'},\n",
       "    {'role': 'user',\n",
       "     'content': 'Current State:\\nMission: get to the green goal square\\nGrid size: 5x5\\nAgent at (2, 3), facing down (↓)\\nStatus: not carrying anything | 6 steps remaining\\nObservation:\\n[[[ 0,  0,  2],\\n  [ 0,  1,  2],\\n  [ 0,  2,  2],\\n  [ 0,  3,  2],\\n  [ 0,  4,  2]],\\n\\n [[ 1,  0,  2],\\n  [ 1,  1, -1],\\n  [ 1,  2, -1],\\n  [ 1,  3, -1],\\n  [ 1,  4,  2]],\\n\\n [[ 2,  0,  2],\\n  [ 2,  1, -1],\\n  [ 2,  2, -1],\\n  [ 2,  3, 10],\\n  [ 2,  4,  2]],\\n\\n [[ 3,  0,  2],\\n  [ 3,  1, -1],\\n  [ 3,  2, -1],\\n  [ 3,  3,  8],\\n  [ 3,  4,  2]],\\n\\n [[ 4,  0,  2],\\n  [ 4,  1,  2],\\n  [ 4,  2,  2],\\n  [ 4,  3,  2],\\n  [ 4,  4,  2]]]\\n\\n\\nChoose next action based on the state and rules. Respond ONLY with the action name:'},\n",
       "    {'role': 'assistant', 'content': 'move_forward'},\n",
       "    {'role': 'user',\n",
       "     'content': 'Current State:\\nMission: get to the green goal square\\nGrid size: 5x5\\nAgent at (2, 3), facing down (↓)\\nStatus: not carrying anything | 5 steps remaining\\nObservation:\\n[[[ 0,  0,  2],\\n  [ 0,  1,  2],\\n  [ 0,  2,  2],\\n  [ 0,  3,  2],\\n  [ 0,  4,  2]],\\n\\n [[ 1,  0,  2],\\n  [ 1,  1, -1],\\n  [ 1,  2, -1],\\n  [ 1,  3, -1],\\n  [ 1,  4,  2]],\\n\\n [[ 2,  0,  2],\\n  [ 2,  1, -1],\\n  [ 2,  2, -1],\\n  [ 2,  3, 10],\\n  [ 2,  4,  2]],\\n\\n [[ 3,  0,  2],\\n  [ 3,  1, -1],\\n  [ 3,  2, -1],\\n  [ 3,  3,  8],\\n  [ 3,  4,  2]],\\n\\n [[ 4,  0,  2],\\n  [ 4,  1,  2],\\n  [ 4,  2,  2],\\n  [ 4,  3,  2],\\n  [ 4,  4,  2]]]\\n\\n\\nChoose next action based on the state and rules. Respond ONLY with the action name:'},\n",
       "    {'role': 'assistant', 'content': 'move_forward'},\n",
       "    {'role': 'user',\n",
       "     'content': 'Current State:\\nMission: get to the green goal square\\nGrid size: 5x5\\nAgent at (2, 3), facing down (↓)\\nStatus: not carrying anything | 4 steps remaining\\nObservation:\\n[[[ 0,  0,  2],\\n  [ 0,  1,  2],\\n  [ 0,  2,  2],\\n  [ 0,  3,  2],\\n  [ 0,  4,  2]],\\n\\n [[ 1,  0,  2],\\n  [ 1,  1, -1],\\n  [ 1,  2, -1],\\n  [ 1,  3, -1],\\n  [ 1,  4,  2]],\\n\\n [[ 2,  0,  2],\\n  [ 2,  1, -1],\\n  [ 2,  2, -1],\\n  [ 2,  3, 10],\\n  [ 2,  4,  2]],\\n\\n [[ 3,  0,  2],\\n  [ 3,  1, -1],\\n  [ 3,  2, -1],\\n  [ 3,  3,  8],\\n  [ 3,  4,  2]],\\n\\n [[ 4,  0,  2],\\n  [ 4,  1,  2],\\n  [ 4,  2,  2],\\n  [ 4,  3,  2],\\n  [ 4,  4,  2]]]\\n\\n\\nChoose next action based on the state and rules. Respond ONLY with the action name:'},\n",
       "    {'role': 'assistant', 'content': 'done'},\n",
       "    {'role': 'user',\n",
       "     'content': 'Current State:\\nMission: get to the green goal square\\nGrid size: 5x5\\nAgent at (2, 3), facing down (↓)\\nStatus: not carrying anything | 3 steps remaining\\nObservation:\\n[[[ 0,  0,  2],\\n  [ 0,  1,  2],\\n  [ 0,  2,  2],\\n  [ 0,  3,  2],\\n  [ 0,  4,  2]],\\n\\n [[ 1,  0,  2],\\n  [ 1,  1, -1],\\n  [ 1,  2, -1],\\n  [ 1,  3, -1],\\n  [ 1,  4,  2]],\\n\\n [[ 2,  0,  2],\\n  [ 2,  1, -1],\\n  [ 2,  2, -1],\\n  [ 2,  3, 10],\\n  [ 2,  4,  2]],\\n\\n [[ 3,  0,  2],\\n  [ 3,  1, -1],\\n  [ 3,  2, -1],\\n  [ 3,  3,  8],\\n  [ 3,  4,  2]],\\n\\n [[ 4,  0,  2],\\n  [ 4,  1,  2],\\n  [ 4,  2,  2],\\n  [ 4,  3,  2],\\n  [ 4,  4,  2]]]\\n\\n\\nChoose next action based on the state and rules. Respond ONLY with the action name:'},\n",
       "    {'role': 'assistant', 'content': 'turn_left'},\n",
       "    {'role': 'user',\n",
       "     'content': 'Current State:\\nMission: get to the green goal square\\nGrid size: 5x5\\nAgent at (2, 3), facing right (→)\\nStatus: not carrying anything | 2 steps remaining\\nObservation:\\n[[[ 0,  0,  2],\\n  [ 0,  1,  2],\\n  [ 0,  2,  2],\\n  [ 0,  3,  2],\\n  [ 0,  4,  2]],\\n\\n [[ 1,  0,  2],\\n  [ 1,  1, -1],\\n  [ 1,  2, -1],\\n  [ 1,  3, -1],\\n  [ 1,  4,  2]],\\n\\n [[ 2,  0,  2],\\n  [ 2,  1, -1],\\n  [ 2,  2, -1],\\n  [ 2,  3, 10],\\n  [ 2,  4,  2]],\\n\\n [[ 3,  0,  2],\\n  [ 3,  1, -1],\\n  [ 3,  2, -1],\\n  [ 3,  3,  8],\\n  [ 3,  4,  2]],\\n\\n [[ 4,  0,  2],\\n  [ 4,  1,  2],\\n  [ 4,  2,  2],\\n  [ 4,  3,  2],\\n  [ 4,  4,  2]]]\\n\\n\\nChoose next action based on the state and rules. Respond ONLY with the action name:'},\n",
       "    {'role': 'assistant', 'content': 'move_forward'},\n",
       "    {'role': 'user',\n",
       "     'content': 'Current State:\\nMission: get to the green goal square\\nGrid size: 5x5\\nAgent at (3, 3), facing right (→)\\nStatus: not carrying anything | 1 steps remaining\\nObservation:\\n[[[ 0,  0,  2],\\n  [ 0,  1,  2],\\n  [ 0,  2,  2],\\n  [ 0,  3,  2],\\n  [ 0,  4,  2]],\\n\\n [[ 1,  0,  2],\\n  [ 1,  1, -1],\\n  [ 1,  2, -1],\\n  [ 1,  3, -1],\\n  [ 1,  4,  2]],\\n\\n [[ 2,  0,  2],\\n  [ 2,  1, -1],\\n  [ 2,  2, -1],\\n  [ 2,  3, -1],\\n  [ 2,  4,  2]],\\n\\n [[ 3,  0,  2],\\n  [ 3,  1, -1],\\n  [ 3,  2, -1],\\n  [ 3,  3, 10],\\n  [ 3,  4,  2]],\\n\\n [[ 4,  0,  2],\\n  [ 4,  1,  2],\\n  [ 4,  2,  2],\\n  [ 4,  3,  2],\\n  [ 4,  4,  2]]]\\n\\n\\nChoose next action based on the state and rules. Respond ONLY with the action name:'}]]},\n",
       " 'MiniGrid-DoorKey-6x6-v0': {'avg_steps': 15.0,\n",
       "  'avg_reward': 0.0,\n",
       "  'invalid_actions': 0,\n",
       "  'conversations': [[{'role': 'system',\n",
       "     'content': \"You are an AI agent navigating a grid environment. Your task is:\\n1. Analyze environmental observations\\n2. Choose optimal actions to achieve the mission\\n\\n**Core Rules**:\\n- Strictly use ONLY the provided action list\\n- Prioritize shortest paths\\n- Avoid dangerous areas (lava)\\n- Manage inventory carefully (keys, etc)\\n- Closed doors require 'toggle' to open\\n- Locked doors need matching key (use pickup first)\\n\\n**Action Space** (REQUIRED RESPONSE FORMAT):\\nturn_left   : Rotate 90° counter-clockwise\\nturn_right  : Rotate 90° clockwise\\nmove_forward: Advance if path clear\\npickup      : Collect keys/objects\\ndrop        : Drop carried object\\ntoggle      : Open doors or interact (facing target required)\\ndone        : ONLY when goal reached\\n\\n**Observation**:\\nYou receive the entire grid as an observation, represented as a 3D array of shape (width, height, 3).\\n- Coordinates range from (0,0) at top-left to (width-1, height-1) at bottom-right.\\n- Each cell contains [object_type, color, state]:\\n  - object_type: 1=EMPTY, 2=WALL, 3=FLOOR, 4=DOOR, 5=KEY, 6=BALL, 7=BOX, 8=GOAL, 9=LAVA, 10=AGENT\\n  - color: 0=RED, 1=GREEN, 2=BLUE, 3=PURPLE, 4=YELLOW, 5=GREY\\n    - For AGENT (10), this is direction: 0=right, 1=down, 2=left, 3=up\\n  - state: For DOOR, 0=open, 1=closed, 2=locked; otherwise 0\\n- Your position is the cell with object_type=10.\\n- The mission is a string, e.g., 'get to the green goal square'.\\n\\nRespond with exactly one lowercase action word.\"},\n",
       "    {'role': 'user',\n",
       "     'content': 'Current State:\\nMission: use the key to open the door and then get to the goal\\nGrid size: 6x6\\nAgent at (1, 4), facing right (→)\\nStatus: not carrying anything | 15 steps remaining\\nObservation:\\n[[[ 0,  0,  2],\\n  [ 0,  1,  2],\\n  [ 0,  2,  2],\\n  [ 0,  3,  2],\\n  [ 0,  4,  2],\\n  [ 0,  5,  2]],\\n\\n [[ 1,  0,  2],\\n  [ 1,  1,  5],\\n  [ 1,  2, -1],\\n  [ 1,  3, -1],\\n  [ 1,  4, 10],\\n  [ 1,  5,  2]],\\n\\n [[ 2,  0,  2],\\n  [ 2,  1, -1],\\n  [ 2,  2, -1],\\n  [ 2,  3, -1],\\n  [ 2,  4, -1],\\n  [ 2,  5,  2]],\\n\\n [[ 3,  0,  2],\\n  [ 3,  1,  2],\\n  [ 3,  2,  4],\\n  [ 3,  3,  2],\\n  [ 3,  4,  2],\\n  [ 3,  5,  2]],\\n\\n [[ 4,  0,  2],\\n  [ 4,  1, -1],\\n  [ 4,  2, -1],\\n  [ 4,  3, -1],\\n  [ 4,  4,  8],\\n  [ 4,  5,  2]],\\n\\n [[ 5,  0,  2],\\n  [ 5,  1,  2],\\n  [ 5,  2,  2],\\n  [ 5,  3,  2],\\n  [ 5,  4,  2],\\n  [ 5,  5,  2]]]\\n\\n\\nChoose next action based on the state and rules. Respond ONLY with the action name:'},\n",
       "    {'role': 'assistant', 'content': 'move_forward'},\n",
       "    {'role': 'user',\n",
       "     'content': 'Current State:\\nMission: use the key to open the door and then get to the goal\\nGrid size: 6x6\\nAgent at (2, 4), facing right (→)\\nStatus: not carrying anything | 14 steps remaining\\nObservation:\\n[[[ 0,  0,  2],\\n  [ 0,  1,  2],\\n  [ 0,  2,  2],\\n  [ 0,  3,  2],\\n  [ 0,  4,  2],\\n  [ 0,  5,  2]],\\n\\n [[ 1,  0,  2],\\n  [ 1,  1,  5],\\n  [ 1,  2, -1],\\n  [ 1,  3, -1],\\n  [ 1,  4, -1],\\n  [ 1,  5,  2]],\\n\\n [[ 2,  0,  2],\\n  [ 2,  1, -1],\\n  [ 2,  2, -1],\\n  [ 2,  3, -1],\\n  [ 2,  4, 10],\\n  [ 2,  5,  2]],\\n\\n [[ 3,  0,  2],\\n  [ 3,  1,  2],\\n  [ 3,  2,  4],\\n  [ 3,  3,  2],\\n  [ 3,  4,  2],\\n  [ 3,  5,  2]],\\n\\n [[ 4,  0,  2],\\n  [ 4,  1, -1],\\n  [ 4,  2, -1],\\n  [ 4,  3, -1],\\n  [ 4,  4,  8],\\n  [ 4,  5,  2]],\\n\\n [[ 5,  0,  2],\\n  [ 5,  1,  2],\\n  [ 5,  2,  2],\\n  [ 5,  3,  2],\\n  [ 5,  4,  2],\\n  [ 5,  5,  2]]]\\n\\n\\nChoose next action based on the state and rules. Respond ONLY with the action name:'},\n",
       "    {'role': 'assistant', 'content': 'pickup'},\n",
       "    {'role': 'user',\n",
       "     'content': 'Current State:\\nMission: use the key to open the door and then get to the goal\\nGrid size: 6x6\\nAgent at (2, 4), facing right (→)\\nStatus: not carrying anything | 13 steps remaining\\nObservation:\\n[[[ 0,  0,  2],\\n  [ 0,  1,  2],\\n  [ 0,  2,  2],\\n  [ 0,  3,  2],\\n  [ 0,  4,  2],\\n  [ 0,  5,  2]],\\n\\n [[ 1,  0,  2],\\n  [ 1,  1,  5],\\n  [ 1,  2, -1],\\n  [ 1,  3, -1],\\n  [ 1,  4, -1],\\n  [ 1,  5,  2]],\\n\\n [[ 2,  0,  2],\\n  [ 2,  1, -1],\\n  [ 2,  2, -1],\\n  [ 2,  3, -1],\\n  [ 2,  4, 10],\\n  [ 2,  5,  2]],\\n\\n [[ 3,  0,  2],\\n  [ 3,  1,  2],\\n  [ 3,  2,  4],\\n  [ 3,  3,  2],\\n  [ 3,  4,  2],\\n  [ 3,  5,  2]],\\n\\n [[ 4,  0,  2],\\n  [ 4,  1, -1],\\n  [ 4,  2, -1],\\n  [ 4,  3, -1],\\n  [ 4,  4,  8],\\n  [ 4,  5,  2]],\\n\\n [[ 5,  0,  2],\\n  [ 5,  1,  2],\\n  [ 5,  2,  2],\\n  [ 5,  3,  2],\\n  [ 5,  4,  2],\\n  [ 5,  5,  2]]]\\n\\n\\nChoose next action based on the state and rules. Respond ONLY with the action name:'},\n",
       "    {'role': 'assistant', 'content': 'turn_left'},\n",
       "    {'role': 'user',\n",
       "     'content': 'Current State:\\nMission: use the key to open the door and then get to the goal\\nGrid size: 6x6\\nAgent at (2, 4), facing up (↑)\\nStatus: not carrying anything | 12 steps remaining\\nObservation:\\n[[[ 0,  0,  2],\\n  [ 0,  1,  2],\\n  [ 0,  2,  2],\\n  [ 0,  3,  2],\\n  [ 0,  4,  2],\\n  [ 0,  5,  2]],\\n\\n [[ 1,  0,  2],\\n  [ 1,  1,  5],\\n  [ 1,  2, -1],\\n  [ 1,  3, -1],\\n  [ 1,  4, -1],\\n  [ 1,  5,  2]],\\n\\n [[ 2,  0,  2],\\n  [ 2,  1, -1],\\n  [ 2,  2, -1],\\n  [ 2,  3, -1],\\n  [ 2,  4, 10],\\n  [ 2,  5,  2]],\\n\\n [[ 3,  0,  2],\\n  [ 3,  1,  2],\\n  [ 3,  2,  4],\\n  [ 3,  3,  2],\\n  [ 3,  4,  2],\\n  [ 3,  5,  2]],\\n\\n [[ 4,  0,  2],\\n  [ 4,  1, -1],\\n  [ 4,  2, -1],\\n  [ 4,  3, -1],\\n  [ 4,  4,  8],\\n  [ 4,  5,  2]],\\n\\n [[ 5,  0,  2],\\n  [ 5,  1,  2],\\n  [ 5,  2,  2],\\n  [ 5,  3,  2],\\n  [ 5,  4,  2],\\n  [ 5,  5,  2]]]\\n\\n\\nChoose next action based on the state and rules. Respond ONLY with the action name:'},\n",
       "    {'role': 'assistant', 'content': 'move_forward'},\n",
       "    {'role': 'user',\n",
       "     'content': 'Current State:\\nMission: use the key to open the door and then get to the goal\\nGrid size: 6x6\\nAgent at (2, 3), facing up (↑)\\nStatus: not carrying anything | 11 steps remaining\\nObservation:\\n[[[ 0,  0,  2],\\n  [ 0,  1,  2],\\n  [ 0,  2,  2],\\n  [ 0,  3,  2],\\n  [ 0,  4,  2],\\n  [ 0,  5,  2]],\\n\\n [[ 1,  0,  2],\\n  [ 1,  1,  5],\\n  [ 1,  2, -1],\\n  [ 1,  3, -1],\\n  [ 1,  4, -1],\\n  [ 1,  5,  2]],\\n\\n [[ 2,  0,  2],\\n  [ 2,  1, -1],\\n  [ 2,  2, -1],\\n  [ 2,  3, 10],\\n  [ 2,  4, -1],\\n  [ 2,  5,  2]],\\n\\n [[ 3,  0,  2],\\n  [ 3,  1,  2],\\n  [ 3,  2,  4],\\n  [ 3,  3,  2],\\n  [ 3,  4,  2],\\n  [ 3,  5,  2]],\\n\\n [[ 4,  0,  2],\\n  [ 4,  1, -1],\\n  [ 4,  2, -1],\\n  [ 4,  3, -1],\\n  [ 4,  4,  8],\\n  [ 4,  5,  2]],\\n\\n [[ 5,  0,  2],\\n  [ 5,  1,  2],\\n  [ 5,  2,  2],\\n  [ 5,  3,  2],\\n  [ 5,  4,  2],\\n  [ 5,  5,  2]]]\\n\\n\\nChoose next action based on the state and rules. Respond ONLY with the action name:'},\n",
       "    {'role': 'assistant', 'content': 'move_forward'},\n",
       "    {'role': 'user',\n",
       "     'content': 'Current State:\\nMission: use the key to open the door and then get to the goal\\nGrid size: 6x6\\nAgent at (2, 2), facing up (↑)\\nStatus: not carrying anything | 10 steps remaining\\nObservation:\\n[[[ 0,  0,  2],\\n  [ 0,  1,  2],\\n  [ 0,  2,  2],\\n  [ 0,  3,  2],\\n  [ 0,  4,  2],\\n  [ 0,  5,  2]],\\n\\n [[ 1,  0,  2],\\n  [ 1,  1,  5],\\n  [ 1,  2, -1],\\n  [ 1,  3, -1],\\n  [ 1,  4, -1],\\n  [ 1,  5,  2]],\\n\\n [[ 2,  0,  2],\\n  [ 2,  1, -1],\\n  [ 2,  2, 10],\\n  [ 2,  3, -1],\\n  [ 2,  4, -1],\\n  [ 2,  5,  2]],\\n\\n [[ 3,  0,  2],\\n  [ 3,  1,  2],\\n  [ 3,  2,  4],\\n  [ 3,  3,  2],\\n  [ 3,  4,  2],\\n  [ 3,  5,  2]],\\n\\n [[ 4,  0,  2],\\n  [ 4,  1, -1],\\n  [ 4,  2, -1],\\n  [ 4,  3, -1],\\n  [ 4,  4,  8],\\n  [ 4,  5,  2]],\\n\\n [[ 5,  0,  2],\\n  [ 5,  1,  2],\\n  [ 5,  2,  2],\\n  [ 5,  3,  2],\\n  [ 5,  4,  2],\\n  [ 5,  5,  2]]]\\n\\n\\nChoose next action based on the state and rules. Respond ONLY with the action name:'},\n",
       "    {'role': 'assistant', 'content': 'pickup'},\n",
       "    {'role': 'user',\n",
       "     'content': 'Current State:\\nMission: use the key to open the door and then get to the goal\\nGrid size: 6x6\\nAgent at (2, 2), facing up (↑)\\nStatus: not carrying anything | 9 steps remaining\\nObservation:\\n[[[ 0,  0,  2],\\n  [ 0,  1,  2],\\n  [ 0,  2,  2],\\n  [ 0,  3,  2],\\n  [ 0,  4,  2],\\n  [ 0,  5,  2]],\\n\\n [[ 1,  0,  2],\\n  [ 1,  1,  5],\\n  [ 1,  2, -1],\\n  [ 1,  3, -1],\\n  [ 1,  4, -1],\\n  [ 1,  5,  2]],\\n\\n [[ 2,  0,  2],\\n  [ 2,  1, -1],\\n  [ 2,  2, 10],\\n  [ 2,  3, -1],\\n  [ 2,  4, -1],\\n  [ 2,  5,  2]],\\n\\n [[ 3,  0,  2],\\n  [ 3,  1,  2],\\n  [ 3,  2,  4],\\n  [ 3,  3,  2],\\n  [ 3,  4,  2],\\n  [ 3,  5,  2]],\\n\\n [[ 4,  0,  2],\\n  [ 4,  1, -1],\\n  [ 4,  2, -1],\\n  [ 4,  3, -1],\\n  [ 4,  4,  8],\\n  [ 4,  5,  2]],\\n\\n [[ 5,  0,  2],\\n  [ 5,  1,  2],\\n  [ 5,  2,  2],\\n  [ 5,  3,  2],\\n  [ 5,  4,  2],\\n  [ 5,  5,  2]]]\\n\\n\\nChoose next action based on the state and rules. Respond ONLY with the action name:'},\n",
       "    {'role': 'assistant', 'content': 'turn_right'},\n",
       "    {'role': 'user',\n",
       "     'content': 'Current State:\\nMission: use the key to open the door and then get to the goal\\nGrid size: 6x6\\nAgent at (2, 2), facing right (→)\\nStatus: not carrying anything | 8 steps remaining\\nObservation:\\n[[[ 0,  0,  2],\\n  [ 0,  1,  2],\\n  [ 0,  2,  2],\\n  [ 0,  3,  2],\\n  [ 0,  4,  2],\\n  [ 0,  5,  2]],\\n\\n [[ 1,  0,  2],\\n  [ 1,  1,  5],\\n  [ 1,  2, -1],\\n  [ 1,  3, -1],\\n  [ 1,  4, -1],\\n  [ 1,  5,  2]],\\n\\n [[ 2,  0,  2],\\n  [ 2,  1, -1],\\n  [ 2,  2, 10],\\n  [ 2,  3, -1],\\n  [ 2,  4, -1],\\n  [ 2,  5,  2]],\\n\\n [[ 3,  0,  2],\\n  [ 3,  1,  2],\\n  [ 3,  2,  4],\\n  [ 3,  3,  2],\\n  [ 3,  4,  2],\\n  [ 3,  5,  2]],\\n\\n [[ 4,  0,  2],\\n  [ 4,  1, -1],\\n  [ 4,  2, -1],\\n  [ 4,  3, -1],\\n  [ 4,  4,  8],\\n  [ 4,  5,  2]],\\n\\n [[ 5,  0,  2],\\n  [ 5,  1,  2],\\n  [ 5,  2,  2],\\n  [ 5,  3,  2],\\n  [ 5,  4,  2],\\n  [ 5,  5,  2]]]\\n\\n\\nChoose next action based on the state and rules. Respond ONLY with the action name:'},\n",
       "    {'role': 'assistant', 'content': 'move_forward'},\n",
       "    {'role': 'user',\n",
       "     'content': 'Current State:\\nMission: use the key to open the door and then get to the goal\\nGrid size: 6x6\\nAgent at (2, 2), facing right (→)\\nStatus: not carrying anything | 7 steps remaining\\nObservation:\\n[[[ 0,  0,  2],\\n  [ 0,  1,  2],\\n  [ 0,  2,  2],\\n  [ 0,  3,  2],\\n  [ 0,  4,  2],\\n  [ 0,  5,  2]],\\n\\n [[ 1,  0,  2],\\n  [ 1,  1,  5],\\n  [ 1,  2, -1],\\n  [ 1,  3, -1],\\n  [ 1,  4, -1],\\n  [ 1,  5,  2]],\\n\\n [[ 2,  0,  2],\\n  [ 2,  1, -1],\\n  [ 2,  2, 10],\\n  [ 2,  3, -1],\\n  [ 2,  4, -1],\\n  [ 2,  5,  2]],\\n\\n [[ 3,  0,  2],\\n  [ 3,  1,  2],\\n  [ 3,  2,  4],\\n  [ 3,  3,  2],\\n  [ 3,  4,  2],\\n  [ 3,  5,  2]],\\n\\n [[ 4,  0,  2],\\n  [ 4,  1, -1],\\n  [ 4,  2, -1],\\n  [ 4,  3, -1],\\n  [ 4,  4,  8],\\n  [ 4,  5,  2]],\\n\\n [[ 5,  0,  2],\\n  [ 5,  1,  2],\\n  [ 5,  2,  2],\\n  [ 5,  3,  2],\\n  [ 5,  4,  2],\\n  [ 5,  5,  2]]]\\n\\n\\nChoose next action based on the state and rules. Respond ONLY with the action name:'},\n",
       "    {'role': 'assistant', 'content': 'toggle'},\n",
       "    {'role': 'user',\n",
       "     'content': 'Current State:\\nMission: use the key to open the door and then get to the goal\\nGrid size: 6x6\\nAgent at (2, 2), facing right (→)\\nStatus: not carrying anything | 6 steps remaining\\nObservation:\\n[[[ 0,  0,  2],\\n  [ 0,  1,  2],\\n  [ 0,  2,  2],\\n  [ 0,  3,  2],\\n  [ 0,  4,  2],\\n  [ 0,  5,  2]],\\n\\n [[ 1,  0,  2],\\n  [ 1,  1,  5],\\n  [ 1,  2, -1],\\n  [ 1,  3, -1],\\n  [ 1,  4, -1],\\n  [ 1,  5,  2]],\\n\\n [[ 2,  0,  2],\\n  [ 2,  1, -1],\\n  [ 2,  2, 10],\\n  [ 2,  3, -1],\\n  [ 2,  4, -1],\\n  [ 2,  5,  2]],\\n\\n [[ 3,  0,  2],\\n  [ 3,  1,  2],\\n  [ 3,  2,  4],\\n  [ 3,  3,  2],\\n  [ 3,  4,  2],\\n  [ 3,  5,  2]],\\n\\n [[ 4,  0,  2],\\n  [ 4,  1, -1],\\n  [ 4,  2, -1],\\n  [ 4,  3, -1],\\n  [ 4,  4,  8],\\n  [ 4,  5,  2]],\\n\\n [[ 5,  0,  2],\\n  [ 5,  1,  2],\\n  [ 5,  2,  2],\\n  [ 5,  3,  2],\\n  [ 5,  4,  2],\\n  [ 5,  5,  2]]]\\n\\n\\nChoose next action based on the state and rules. Respond ONLY with the action name:'},\n",
       "    {'role': 'assistant', 'content': 'turn_left'},\n",
       "    {'role': 'user',\n",
       "     'content': 'Current State:\\nMission: use the key to open the door and then get to the goal\\nGrid size: 6x6\\nAgent at (2, 2), facing up (↑)\\nStatus: not carrying anything | 5 steps remaining\\nObservation:\\n[[[ 0,  0,  2],\\n  [ 0,  1,  2],\\n  [ 0,  2,  2],\\n  [ 0,  3,  2],\\n  [ 0,  4,  2],\\n  [ 0,  5,  2]],\\n\\n [[ 1,  0,  2],\\n  [ 1,  1,  5],\\n  [ 1,  2, -1],\\n  [ 1,  3, -1],\\n  [ 1,  4, -1],\\n  [ 1,  5,  2]],\\n\\n [[ 2,  0,  2],\\n  [ 2,  1, -1],\\n  [ 2,  2, 10],\\n  [ 2,  3, -1],\\n  [ 2,  4, -1],\\n  [ 2,  5,  2]],\\n\\n [[ 3,  0,  2],\\n  [ 3,  1,  2],\\n  [ 3,  2,  4],\\n  [ 3,  3,  2],\\n  [ 3,  4,  2],\\n  [ 3,  5,  2]],\\n\\n [[ 4,  0,  2],\\n  [ 4,  1, -1],\\n  [ 4,  2, -1],\\n  [ 4,  3, -1],\\n  [ 4,  4,  8],\\n  [ 4,  5,  2]],\\n\\n [[ 5,  0,  2],\\n  [ 5,  1,  2],\\n  [ 5,  2,  2],\\n  [ 5,  3,  2],\\n  [ 5,  4,  2],\\n  [ 5,  5,  2]]]\\n\\n\\nChoose next action based on the state and rules. Respond ONLY with the action name:'},\n",
       "    {'role': 'assistant', 'content': 'move_forward'},\n",
       "    {'role': 'user',\n",
       "     'content': 'Current State:\\nMission: use the key to open the door and then get to the goal\\nGrid size: 6x6\\nAgent at (2, 1), facing up (↑)\\nStatus: not carrying anything | 4 steps remaining\\nObservation:\\n[[[ 0,  0,  2],\\n  [ 0,  1,  2],\\n  [ 0,  2,  2],\\n  [ 0,  3,  2],\\n  [ 0,  4,  2],\\n  [ 0,  5,  2]],\\n\\n [[ 1,  0,  2],\\n  [ 1,  1,  5],\\n  [ 1,  2, -1],\\n  [ 1,  3, -1],\\n  [ 1,  4, -1],\\n  [ 1,  5,  2]],\\n\\n [[ 2,  0,  2],\\n  [ 2,  1, 10],\\n  [ 2,  2, -1],\\n  [ 2,  3, -1],\\n  [ 2,  4, -1],\\n  [ 2,  5,  2]],\\n\\n [[ 3,  0,  2],\\n  [ 3,  1,  2],\\n  [ 3,  2,  4],\\n  [ 3,  3,  2],\\n  [ 3,  4,  2],\\n  [ 3,  5,  2]],\\n\\n [[ 4,  0,  2],\\n  [ 4,  1, -1],\\n  [ 4,  2, -1],\\n  [ 4,  3, -1],\\n  [ 4,  4,  8],\\n  [ 4,  5,  2]],\\n\\n [[ 5,  0,  2],\\n  [ 5,  1,  2],\\n  [ 5,  2,  2],\\n  [ 5,  3,  2],\\n  [ 5,  4,  2],\\n  [ 5,  5,  2]]]\\n\\n\\nChoose next action based on the state and rules. Respond ONLY with the action name:'},\n",
       "    {'role': 'assistant', 'content': 'pickup'},\n",
       "    {'role': 'user',\n",
       "     'content': 'Current State:\\nMission: use the key to open the door and then get to the goal\\nGrid size: 6x6\\nAgent at (2, 1), facing up (↑)\\nStatus: not carrying anything | 3 steps remaining\\nObservation:\\n[[[ 0,  0,  2],\\n  [ 0,  1,  2],\\n  [ 0,  2,  2],\\n  [ 0,  3,  2],\\n  [ 0,  4,  2],\\n  [ 0,  5,  2]],\\n\\n [[ 1,  0,  2],\\n  [ 1,  1,  5],\\n  [ 1,  2, -1],\\n  [ 1,  3, -1],\\n  [ 1,  4, -1],\\n  [ 1,  5,  2]],\\n\\n [[ 2,  0,  2],\\n  [ 2,  1, 10],\\n  [ 2,  2, -1],\\n  [ 2,  3, -1],\\n  [ 2,  4, -1],\\n  [ 2,  5,  2]],\\n\\n [[ 3,  0,  2],\\n  [ 3,  1,  2],\\n  [ 3,  2,  4],\\n  [ 3,  3,  2],\\n  [ 3,  4,  2],\\n  [ 3,  5,  2]],\\n\\n [[ 4,  0,  2],\\n  [ 4,  1, -1],\\n  [ 4,  2, -1],\\n  [ 4,  3, -1],\\n  [ 4,  4,  8],\\n  [ 4,  5,  2]],\\n\\n [[ 5,  0,  2],\\n  [ 5,  1,  2],\\n  [ 5,  2,  2],\\n  [ 5,  3,  2],\\n  [ 5,  4,  2],\\n  [ 5,  5,  2]]]\\n\\n\\nChoose next action based on the state and rules. Respond ONLY with the action name:'},\n",
       "    {'role': 'assistant', 'content': 'turn_right'},\n",
       "    {'role': 'user',\n",
       "     'content': 'Current State:\\nMission: use the key to open the door and then get to the goal\\nGrid size: 6x6\\nAgent at (2, 1), facing right (→)\\nStatus: not carrying anything | 2 steps remaining\\nObservation:\\n[[[ 0,  0,  2],\\n  [ 0,  1,  2],\\n  [ 0,  2,  2],\\n  [ 0,  3,  2],\\n  [ 0,  4,  2],\\n  [ 0,  5,  2]],\\n\\n [[ 1,  0,  2],\\n  [ 1,  1,  5],\\n  [ 1,  2, -1],\\n  [ 1,  3, -1],\\n  [ 1,  4, -1],\\n  [ 1,  5,  2]],\\n\\n [[ 2,  0,  2],\\n  [ 2,  1, 10],\\n  [ 2,  2, -1],\\n  [ 2,  3, -1],\\n  [ 2,  4, -1],\\n  [ 2,  5,  2]],\\n\\n [[ 3,  0,  2],\\n  [ 3,  1,  2],\\n  [ 3,  2,  4],\\n  [ 3,  3,  2],\\n  [ 3,  4,  2],\\n  [ 3,  5,  2]],\\n\\n [[ 4,  0,  2],\\n  [ 4,  1, -1],\\n  [ 4,  2, -1],\\n  [ 4,  3, -1],\\n  [ 4,  4,  8],\\n  [ 4,  5,  2]],\\n\\n [[ 5,  0,  2],\\n  [ 5,  1,  2],\\n  [ 5,  2,  2],\\n  [ 5,  3,  2],\\n  [ 5,  4,  2],\\n  [ 5,  5,  2]]]\\n\\n\\nChoose next action based on the state and rules. Respond ONLY with the action name:'},\n",
       "    {'role': 'assistant', 'content': 'move_forward'},\n",
       "    {'role': 'user',\n",
       "     'content': 'Current State:\\nMission: use the key to open the door and then get to the goal\\nGrid size: 6x6\\nAgent at (2, 1), facing right (→)\\nStatus: not carrying anything | 1 steps remaining\\nObservation:\\n[[[ 0,  0,  2],\\n  [ 0,  1,  2],\\n  [ 0,  2,  2],\\n  [ 0,  3,  2],\\n  [ 0,  4,  2],\\n  [ 0,  5,  2]],\\n\\n [[ 1,  0,  2],\\n  [ 1,  1,  5],\\n  [ 1,  2, -1],\\n  [ 1,  3, -1],\\n  [ 1,  4, -1],\\n  [ 1,  5,  2]],\\n\\n [[ 2,  0,  2],\\n  [ 2,  1, 10],\\n  [ 2,  2, -1],\\n  [ 2,  3, -1],\\n  [ 2,  4, -1],\\n  [ 2,  5,  2]],\\n\\n [[ 3,  0,  2],\\n  [ 3,  1,  2],\\n  [ 3,  2,  4],\\n  [ 3,  3,  2],\\n  [ 3,  4,  2],\\n  [ 3,  5,  2]],\\n\\n [[ 4,  0,  2],\\n  [ 4,  1, -1],\\n  [ 4,  2, -1],\\n  [ 4,  3, -1],\\n  [ 4,  4,  8],\\n  [ 4,  5,  2]],\\n\\n [[ 5,  0,  2],\\n  [ 5,  1,  2],\\n  [ 5,  2,  2],\\n  [ 5,  3,  2],\\n  [ 5,  4,  2],\\n  [ 5,  5,  2]]]\\n\\n\\nChoose next action based on the state and rules. Respond ONLY with the action name:'},\n",
       "    {'role': 'assistant', 'content': 'pickup'},\n",
       "    {'role': 'user',\n",
       "     'content': 'Current State:\\nMission: use the key to open the door and then get to the goal\\nGrid size: 6x6\\nAgent at (2, 1), facing right (→)\\nStatus: not carrying anything | 0 steps remaining\\nObservation:\\n[[[ 0,  0,  2],\\n  [ 0,  1,  2],\\n  [ 0,  2,  2],\\n  [ 0,  3,  2],\\n  [ 0,  4,  2],\\n  [ 0,  5,  2]],\\n\\n [[ 1,  0,  2],\\n  [ 1,  1,  5],\\n  [ 1,  2, -1],\\n  [ 1,  3, -1],\\n  [ 1,  4, -1],\\n  [ 1,  5,  2]],\\n\\n [[ 2,  0,  2],\\n  [ 2,  1, 10],\\n  [ 2,  2, -1],\\n  [ 2,  3, -1],\\n  [ 2,  4, -1],\\n  [ 2,  5,  2]],\\n\\n [[ 3,  0,  2],\\n  [ 3,  1,  2],\\n  [ 3,  2,  4],\\n  [ 3,  3,  2],\\n  [ 3,  4,  2],\\n  [ 3,  5,  2]],\\n\\n [[ 4,  0,  2],\\n  [ 4,  1, -1],\\n  [ 4,  2, -1],\\n  [ 4,  3, -1],\\n  [ 4,  4,  8],\\n  [ 4,  5,  2]],\\n\\n [[ 5,  0,  2],\\n  [ 5,  1,  2],\\n  [ 5,  2,  2],\\n  [ 5,  3,  2],\\n  [ 5,  4,  2],\\n  [ 5,  5,  2]]]\\n\\n\\nChoose next action based on the state and rules. Respond ONLY with the action name:'}]]},\n",
       " 'MiniGrid-LavaGapS5-v0': {'avg_steps': 10.0,\n",
       "  'avg_reward': 0.0,\n",
       "  'invalid_actions': 0,\n",
       "  'conversations': [[{'role': 'system',\n",
       "     'content': \"You are an AI agent navigating a grid environment. Your task is:\\n1. Analyze environmental observations\\n2. Choose optimal actions to achieve the mission\\n\\n**Core Rules**:\\n- Strictly use ONLY the provided action list\\n- Prioritize shortest paths\\n- Avoid dangerous areas (lava)\\n- Manage inventory carefully (keys, etc)\\n- Closed doors require 'toggle' to open\\n- Locked doors need matching key (use pickup first)\\n\\n**Action Space** (REQUIRED RESPONSE FORMAT):\\nturn_left   : Rotate 90° counter-clockwise\\nturn_right  : Rotate 90° clockwise\\nmove_forward: Advance if path clear\\npickup      : Collect keys/objects\\ndrop        : Drop carried object\\ntoggle      : Open doors or interact (facing target required)\\ndone        : ONLY when goal reached\\n\\n**Observation**:\\nYou receive the entire grid as an observation, represented as a 3D array of shape (width, height, 3).\\n- Coordinates range from (0,0) at top-left to (width-1, height-1) at bottom-right.\\n- Each cell contains [object_type, color, state]:\\n  - object_type: 1=EMPTY, 2=WALL, 3=FLOOR, 4=DOOR, 5=KEY, 6=BALL, 7=BOX, 8=GOAL, 9=LAVA, 10=AGENT\\n  - color: 0=RED, 1=GREEN, 2=BLUE, 3=PURPLE, 4=YELLOW, 5=GREY\\n    - For AGENT (10), this is direction: 0=right, 1=down, 2=left, 3=up\\n  - state: For DOOR, 0=open, 1=closed, 2=locked; otherwise 0\\n- Your position is the cell with object_type=10.\\n- The mission is a string, e.g., 'get to the green goal square'.\\n\\nRespond with exactly one lowercase action word.\"},\n",
       "    {'role': 'user',\n",
       "     'content': 'Current State:\\nMission: avoid the lava and get to the green goal square\\nGrid size: 5x5\\nAgent at (1, 1), facing right (→)\\nStatus: not carrying anything | 15 steps remaining\\nObservation:\\n[[[ 0,  0,  2],\\n  [ 0,  1,  2],\\n  [ 0,  2,  2],\\n  [ 0,  3,  2],\\n  [ 0,  4,  2]],\\n\\n [[ 1,  0,  2],\\n  [ 1,  1, 10],\\n  [ 1,  2, -1],\\n  [ 1,  3, -1],\\n  [ 1,  4,  2]],\\n\\n [[ 2,  0,  2],\\n  [ 2,  1,  9],\\n  [ 2,  2, -1],\\n  [ 2,  3,  9],\\n  [ 2,  4,  2]],\\n\\n [[ 3,  0,  2],\\n  [ 3,  1, -1],\\n  [ 3,  2, -1],\\n  [ 3,  3,  8],\\n  [ 3,  4,  2]],\\n\\n [[ 4,  0,  2],\\n  [ 4,  1,  2],\\n  [ 4,  2,  2],\\n  [ 4,  3,  2],\\n  [ 4,  4,  2]]]\\n\\n\\nChoose next action based on the state and rules. Respond ONLY with the action name:'},\n",
       "    {'role': 'assistant', 'content': 'move_forward'},\n",
       "    {'role': 'user',\n",
       "     'content': 'Current State:\\nMission: avoid the lava and get to the green goal square\\nGrid size: 5x5\\nAgent at (2, 1), facing right (→)\\nStatus: not carrying anything | 14 steps remaining\\nObservation:\\n[[[ 0,  0,  2],\\n  [ 0,  1,  2],\\n  [ 0,  2,  2],\\n  [ 0,  3,  2],\\n  [ 0,  4,  2]],\\n\\n [[ 1,  0,  2],\\n  [ 1,  1, -1],\\n  [ 1,  2, -1],\\n  [ 1,  3, -1],\\n  [ 1,  4,  2]],\\n\\n [[ 2,  0,  2],\\n  [ 2,  1, 10],\\n  [ 2,  2, -1],\\n  [ 2,  3,  9],\\n  [ 2,  4,  2]],\\n\\n [[ 3,  0,  2],\\n  [ 3,  1, -1],\\n  [ 3,  2, -1],\\n  [ 3,  3,  8],\\n  [ 3,  4,  2]],\\n\\n [[ 4,  0,  2],\\n  [ 4,  1,  2],\\n  [ 4,  2,  2],\\n  [ 4,  3,  2],\\n  [ 4,  4,  2]]]\\n\\n\\nChoose next action based on the state and rules. Respond ONLY with the action name:'}]]}}"
      ]
     },
     "execution_count": 11,
     "metadata": {},
     "output_type": "execute_result"
    }
   ],
   "source": [
    "evaluation_results"
   ]
  },
  {
   "cell_type": "markdown",
   "metadata": {},
   "source": [
    "# 上述交互分析 - from R1"
   ]
  },
  {
   "cell_type": "markdown",
   "metadata": {},
   "source": [
    "<think>\n",
    "\n",
    "嗯，我需要仔细分析用户提供的智能体在不同环境中的表现数据，尤其是后面两个环境（MiniGrid-DoorKey-6x6-v0和MiniGrid-LavaGapS5-v0）表现不佳的原因。首先，我应该先分别查看每个环境的数据和对应的对话记录，理解智能体的动作和结果。\n",
    "\n",
    "首先看MiniGrid-Empty-5x5-v0，这个环境看起来比较简单，智能体的平均步数是8.75，平均奖励接近0.47，没有无效动作。这说明在空环境中，智能体能有效找到目标，可能路径规划正确。\n",
    "\n",
    "接下来是MiniGrid-DoorKey-6x6-v0，平均步数15.0，奖励0，无效动作也是0。这说明智能体虽然完成了动作，但可能没有完成任务，比如没有正确使用钥匙开门，或者在步骤耗尽前未能到达目标。查看对话记录，发现智能体在第一步移动后尝试pickup，但似乎没有拿到钥匙。之后多次转向和移动，但似乎没有正确操作门。例如，在某个步骤中，智能体面对门时可能没有使用钥匙，或者门的状态未正确处理。可能需要检查是否有正确拾取钥匙并使用toggle开门，或者是否因为步骤限制导致无法完成任务。\n",
    "\n",
    "第三个环境是MiniGrid-LavaGapS5-v0，平均步数10.0，奖励0，同样无效动作为0。这里任务需要避开岩浆到达目标。查看对话记录，智能体第一次移动到了(2,1)，但该位置旁边可能有岩浆，导致后续步骤可能掉入岩浆而失败。可能在第一步移动后，下一步动作没有正确避开岩浆，导致任务失败。\n",
    "\n",
    "具体分析DoorKey环境的问题：智能体在拾取钥匙后，可能需要正确的方向去开门，但对话记录显示在尝试toggle时可能没有正确面对门，或者门的状态是锁定的而没使用钥匙。例如，在某个步骤中，智能体可能在错误的位置尝试toggle，或者没有携带钥匙导致无法开门。查看对话中的某个步骤，当智能体在(2,2)面朝右时，前面的单元格是(3,2)，这里的数据显示是门（类型4）。如果门是锁定的，智能体需要先使用钥匙才能toggle打开。但智能体在拾取钥匙后是否有携带？在对话记录中，状态显示“not carrying anything”，这可能说明pickup动作未成功，导致无法开门。例如，在第一次尝试pickup时，可能所在位置没有钥匙，或钥匙颜色不匹配。检查用户提供的对话记录中的观察数据，发现钥匙可能在(1,1)的位置，而智能体在(2,4)时尝试pickup，但该位置是否有钥匙？需要仔细核对每个步骤的观察数据。\n",
    "\n",
    "对于LavaGap环境，智能体第一步移动到了(2,1)，而该位置的下方或旁边可能有岩浆，导致后续移动时掉入。例如，在移动后，可能需要转向或绕开岩浆区域，但智能体可能继续直行导致失败。观察数据中，在(2,1)的位置，可能前方或周围有岩浆，但智能体没有正确转向避开。\n",
    "\n",
    "总结原因：在DoorKey环境中，智能体可能未能正确拾取钥匙或使用钥匙开门，导致无法通过门到达目标；而在LavaGap环境中，路径规划未避开岩浆，导致掉入陷阱。需要检查动作序列是否遵循了正确的开门流程和避让危险区域的策略。\n",
    "\n",
    "</think>\n",
    "\n",
    "\n",
    "  \n",
    "嗯，下面是对两个表现不佳环境的分析：\n",
    "\n",
    "---\n",
    "\n",
    "### **1. MiniGrid-DoorKey-6x6-v0 表现分析**\n",
    "**问题表现**  \n",
    "- **平均奖励 0**：任务未完成（未成功开门抵达目标）\n",
    "- **关键问题**：智能体未正确完成「拾钥→开门→通行」的流程。\n",
    "\n",
    "**具体错误**：\n",
    "1. **钥匙拾取失败**  \n",
    "   - 初始位置 (1,4) 右移到 (2,4) 后尝试 `pickup`，但该位置无钥匙（钥匙在 (1,1)）。\n",
    "   - 后续多次无效 `pickup` 浪费步骤（如 (2,2)、(2,1) 的拾取尝试均无钥匙）。\n",
    "\n",
    "2. **方向与开门逻辑错误**  \n",
    "   - 在 (2,2) 面朝右时，对 (3,2) 的锁门（类型 4，状态 2）执行 `toggle`，但未携带钥匙导致操作无效。\n",
    "   - 未调整方向直对门或未正确使用钥匙。\n",
    "\n",
    "3. **路径冗余**  \n",
    "   - 多次无效转向（如反复 `turn_left`/`turn_right`）导致步数耗尽。\n",
    "\n",
    "---\n",
    "\n",
    "### **2. MiniGrid-LavaGapS5-v0 表现分析**\n",
    "**问题表现**  \n",
    "- **平均奖励 0**：未避开岩浆导致任务失败。\n",
    "- **关键问题**：路径规划未识别危险区域。\n",
    "\n",
    "**具体错误**：\n",
    "1. **直行落入岩浆**  \n",
    "   - 初始位置 (1,1) 右移到 (2,1)，但 (2,1) 下方 (2,2) 是岩浆（类型 9）。\n",
    "   - 后续若继续直行或转向错误会触发死亡。\n",
    "\n",
    "2. **缺乏避障策略**  \n",
    "   - 未通过 `turn_left`/`turn_right` 绕路（例如向上避开 (2,1)→(2,2) 的岩浆）。\n",
    "\n",
    "---\n",
    "\n",
    "### **改进建议**\n",
    "1. **DoorKey 环境**  \n",
    "   - 优先导航至钥匙位置（需向左/上移动而非右移）。\n",
    "   - 携带钥匙后面朝锁门执行 `toggle`。\n",
    "\n",
    "2. **LavaGap 环境**  \n",
    "   - 检测前方岩浆后立即转向（如从 (1,1) 上移避开 (2,1)→(2,2) 的岩浆）。\n",
    "   - 优先选择安全路径（例如向上绕行）。\n",
    "\n",
    "---\n",
    "\n",
    "**根本原因**：智能体对钥匙定位、门交互逻辑和危险区域规避的规则理解不足，需加强状态解析与路径规划能力。"
   ]
  },
  {
   "cell_type": "code",
   "execution_count": null,
   "metadata": {},
   "outputs": [],
   "source": []
  },
  {
   "cell_type": "markdown",
   "metadata": {},
   "source": [
    "## 单步测试"
   ]
  },
  {
   "cell_type": "code",
   "execution_count": 7,
   "metadata": {},
   "outputs": [],
   "source": [
    "from main import *"
   ]
  },
  {
   "cell_type": "code",
   "execution_count": 8,
   "metadata": {},
   "outputs": [
    {
     "name": "stdout",
     "output_type": "stream",
     "text": [
      "Mission: get to the green goal square\n",
      "Grid size: 5x5\n",
      "Agent at (1, 1), facing right (→)\n",
      "Status: not carrying anything | 10 steps remaining\n",
      "Observation:\n",
      "[[[ 0,  0,  2],\n",
      "  [ 0,  1,  2],\n",
      "  [ 0,  2,  2],\n",
      "  [ 0,  3,  2],\n",
      "  [ 0,  4,  2]],\n",
      "\n",
      " [[ 1,  0,  2],\n",
      "  [ 1,  1, 10],\n",
      "  [ 1,  2, -1],\n",
      "  [ 1,  3, -1],\n",
      "  [ 1,  4,  2]],\n",
      "\n",
      " [[ 2,  0,  2],\n",
      "  [ 2,  1, -1],\n",
      "  [ 2,  2, -1],\n",
      "  [ 2,  3, -1],\n",
      "  [ 2,  4,  2]],\n",
      "\n",
      " [[ 3,  0,  2],\n",
      "  [ 3,  1, -1],\n",
      "  [ 3,  2, -1],\n",
      "  [ 3,  3,  8],\n",
      "  [ 3,  4,  2]],\n",
      "\n",
      " [[ 4,  0,  2],\n",
      "  [ 4,  1,  2],\n",
      "  [ 4,  2,  2],\n",
      "  [ 4,  3,  2],\n",
      "  [ 4,  4,  2]]]\n",
      "\n"
     ]
    }
   ],
   "source": [
    "agent = MiniGridLLMAgent(\"MiniGrid-Empty-5x5-v0\", max_steps=10)\n",
    "obs_text, obs, info = agent.reset(seed=42)\n",
    "print(obs_text)"
   ]
  },
  {
   "cell_type": "code",
   "execution_count": 9,
   "metadata": {},
   "outputs": [
    {
     "name": "stdout",
     "output_type": "stream",
     "text": [
      "Mission: get to the green goal square\n",
      "Grid size: 5x5\n",
      "Agent at (2, 1), facing right (→)\n",
      "Status: not carrying anything | 9 steps remaining\n",
      "Observation:\n",
      "[[[ 0,  0,  2],\n",
      "  [ 0,  1,  2],\n",
      "  [ 0,  2,  2],\n",
      "  [ 0,  3,  2],\n",
      "  [ 0,  4,  2]],\n",
      "\n",
      " [[ 1,  0,  2],\n",
      "  [ 1,  1, -1],\n",
      "  [ 1,  2, -1],\n",
      "  [ 1,  3, -1],\n",
      "  [ 1,  4,  2]],\n",
      "\n",
      " [[ 2,  0,  2],\n",
      "  [ 2,  1, 10],\n",
      "  [ 2,  2, -1],\n",
      "  [ 2,  3, -1],\n",
      "  [ 2,  4,  2]],\n",
      "\n",
      " [[ 3,  0,  2],\n",
      "  [ 3,  1, -1],\n",
      "  [ 3,  2, -1],\n",
      "  [ 3,  3,  8],\n",
      "  [ 3,  4,  2]],\n",
      "\n",
      " [[ 4,  0,  2],\n",
      "  [ 4,  1,  2],\n",
      "  [ 4,  2,  2],\n",
      "  [ 4,  3,  2],\n",
      "  [ 4,  4,  2]]]\n",
      "\n"
     ]
    }
   ],
   "source": [
    "obs_text, reward, done, obs, info = agent.step('move_forward')\n",
    "print(obs_text)"
   ]
  },
  {
   "cell_type": "code",
   "execution_count": 10,
   "metadata": {},
   "outputs": [
    {
     "name": "stdout",
     "output_type": "stream",
     "text": [
      "Mission: get to the green goal square\n",
      "Grid size: 5x5\n",
      "Agent at (3, 1), facing right (→)\n",
      "Status: not carrying anything | 8 steps remaining\n",
      "Observation:\n",
      "[[[ 0,  0,  2],\n",
      "  [ 0,  1,  2],\n",
      "  [ 0,  2,  2],\n",
      "  [ 0,  3,  2],\n",
      "  [ 0,  4,  2]],\n",
      "\n",
      " [[ 1,  0,  2],\n",
      "  [ 1,  1, -1],\n",
      "  [ 1,  2, -1],\n",
      "  [ 1,  3, -1],\n",
      "  [ 1,  4,  2]],\n",
      "\n",
      " [[ 2,  0,  2],\n",
      "  [ 2,  1, -1],\n",
      "  [ 2,  2, -1],\n",
      "  [ 2,  3, -1],\n",
      "  [ 2,  4,  2]],\n",
      "\n",
      " [[ 3,  0,  2],\n",
      "  [ 3,  1, 10],\n",
      "  [ 3,  2, -1],\n",
      "  [ 3,  3,  8],\n",
      "  [ 3,  4,  2]],\n",
      "\n",
      " [[ 4,  0,  2],\n",
      "  [ 4,  1,  2],\n",
      "  [ 4,  2,  2],\n",
      "  [ 4,  3,  2],\n",
      "  [ 4,  4,  2]]]\n",
      "\n"
     ]
    }
   ],
   "source": [
    "obs_text, reward, done, obs, info = agent.step('move_forward')\n",
    "print(obs_text)"
   ]
  },
  {
   "cell_type": "code",
   "execution_count": null,
   "metadata": {},
   "outputs": [],
   "source": []
  },
  {
   "cell_type": "code",
   "execution_count": null,
   "metadata": {},
   "outputs": [],
   "source": []
  },
  {
   "cell_type": "code",
   "execution_count": null,
   "metadata": {},
   "outputs": [],
   "source": []
  }
 ],
 "metadata": {
  "kernelspec": {
   "display_name": "q",
   "language": "python",
   "name": "python3"
  },
  "language_info": {
   "codemirror_mode": {
    "name": "ipython",
    "version": 3
   },
   "file_extension": ".py",
   "mimetype": "text/x-python",
   "name": "python",
   "nbconvert_exporter": "python",
   "pygments_lexer": "ipython3",
   "version": "3.10.13"
  }
 },
 "nbformat": 4,
 "nbformat_minor": 2
}
