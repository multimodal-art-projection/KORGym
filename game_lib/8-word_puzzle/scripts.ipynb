{
 "cells": [
  {
   "cell_type": "code",
   "execution_count": 3,
   "metadata": {},
   "outputs": [
    {
     "name": "stdout",
     "output_type": "stream",
     "text": [
      "   pubid  year answer clue\n",
      "0    7xw  2021    NaN  NaN\n",
      "1    7xw  2021    NaN  NaN\n",
      "2    7xw  2021    NaN  NaN\n",
      "3    7xw  2021    NaN  NaN\n",
      "4    7xw  2021    NaN  NaN\n",
      "5    7xw  2021    NaN  NaN\n",
      "6    7xw  2021    NaN  NaN\n",
      "7    7xw  2021    NaN  NaN\n",
      "8    7xw  2021    NaN  NaN\n",
      "9    7xw  2021    NaN  NaN\n",
      "10   7xw  2021    NaN  NaN\n",
      "11   7xw  2021    NaN  NaN\n",
      "12   7xw  2021    NaN  NaN\n",
      "13   7xw  2021    NaN  NaN\n",
      "14   7xw  2021    NaN  NaN\n",
      "15   7xw  2021    NaN  NaN\n",
      "16   7xw  2021    NaN  NaN\n",
      "17   7xw  2021    NaN  NaN\n",
      "18   7xw  2021    NaN  NaN\n",
      "19   7xw  2021    NaN  NaN\n"
     ]
    }
   ],
   "source": [
    "import pandas as pd\n",
    "\n",
    "df = pd.read_csv(\n",
    "    './xd/clues.tsv',\n",
    "    sep='\\t',\n",
    "    on_bad_lines='skip',  # 自动跳过错误行（pandas >= 1.3.0）\n",
    "    # 或者使用旧版本参数：\n",
    "    # error_bad_lines=False, warn_bad_lines=True\n",
    ")\n",
    "print(df.head(20))"
   ]
  },
  {
   "cell_type": "code",
   "execution_count": 4,
   "metadata": {},
   "outputs": [
    {
     "data": {
      "text/plain": [
       "112036"
      ]
     },
     "execution_count": 4,
     "metadata": {},
     "output_type": "execute_result"
    }
   ],
   "source": [
    "with open('spreadthewordlist_unscored_high.txt', 'r') as f:\n",
    "    target_words = {line.strip().lower() for line in f}\n",
    "len(target_words)"
   ]
  },
  {
   "cell_type": "code",
   "execution_count": 5,
   "metadata": {},
   "outputs": [],
   "source": [
    "# 清洗answer，创建小写列用于匹配\n",
    "df['answer_lower'] = df['answer'].str.strip().str.lower()\n",
    "# 过滤出在target_words中的行\n",
    "filtered_df = df[df['answer_lower'].isin(target_words)]\n",
    "# 按answer和year排序，以便选择最新的clue\n",
    "filtered_df = filtered_df.sort_values(by=['answer_lower', 'year'], ascending=[True, False])\n",
    "# 去重，保留每个answer的第一个（即最新年份的）\n",
    "final_df = filtered_df.drop_duplicates(subset=['answer_lower'], keep='first')\n",
    "# 生成结果DataFrame\n",
    "result_df = final_df[['answer', 'clue']].rename(columns={'answer': 'word'})"
   ]
  },
  {
   "cell_type": "code",
   "execution_count": 6,
   "metadata": {},
   "outputs": [],
   "source": [
    "result_df.to_csv('high_quality_word_clues.csv', index=False)"
   ]
  },
  {
   "cell_type": "code",
   "execution_count": 1,
   "metadata": {},
   "outputs": [],
   "source": [
    "from main import CrosswordGenerator\n",
    "\n",
    "generator = CrosswordGenerator()"
   ]
  },
  {
   "cell_type": "code",
   "execution_count": 2,
   "metadata": {},
   "outputs": [
    {
     "name": "stdout",
     "output_type": "stream",
     "text": [
      "成功生成填字游戏：crossword_6236.png\n",
      "提示：\n",
      "1. Lattice-topped treat\n",
      "2. Survivor union\n",
      "3. State of disorder\n",
      "4. Feinstein and Wiest, for two\n",
      "5. Passionate type\n",
      "验证结果：5/5\n"
     ]
    }
   ],
   "source": [
    "image_path, clues, answers = generator.generate(seed=42, num=5, difficulty=0.5)\n",
    "print(f\"成功生成填字游戏：{image_path}\")\n",
    "print(\"提示：\")\n",
    "for i, clue in enumerate(clues, 1):\n",
    "    print(f\"{i}. {clue}\")\n",
    "\n",
    "# 模拟用户答案\n",
    "user_answers = [f\"{i+1}. {w}\" for i,w in enumerate(answers)]\n",
    "score = CrosswordGenerator.verify(answers, user_answers)\n",
    "print(f\"验证结果：{score}/{len(answers)}\")"
   ]
  },
  {
   "cell_type": "code",
   "execution_count": null,
   "metadata": {},
   "outputs": [],
   "source": []
  }
 ],
 "metadata": {
  "kernelspec": {
   "display_name": "q",
   "language": "python",
   "name": "python3"
  },
  "language_info": {
   "codemirror_mode": {
    "name": "ipython",
    "version": 3
   },
   "file_extension": ".py",
   "mimetype": "text/x-python",
   "name": "python",
   "nbconvert_exporter": "python",
   "pygments_lexer": "ipython3",
   "version": "3.10.13"
  }
 },
 "nbformat": 4,
 "nbformat_minor": 2
}
